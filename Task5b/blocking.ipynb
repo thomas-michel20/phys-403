{
 "cells": [
  {
   "cell_type": "markdown",
   "metadata": {},
   "source": [
    "# Task Vb - blocking analysis\n",
    "\n",
    "In this exercise you will learn how to perform blocking analysis.\n",
    "You need to generate a sequence of exponentially correlated Gaussian distributed numbers and then evaluate the statistical error of finite time averages through the blocking method."
   ]
  },
  {
   "cell_type": "code",
   "execution_count": null,
   "metadata": {},
   "outputs": [],
   "source": [
    "import numpy as np\n",
    "import matplotlib.pyplot as plt \n",
    "import matplotlib.pyplot as plt\n",
    "from scipy.optimize import curve_fit\n"
   ]
  },
  {
   "cell_type": "markdown",
   "metadata": {},
   "source": [
    "## 1. Generate the sample\n",
    "Generate $N$ samples $\\{A_i\\}$ with correlation time $\\tilde{\\tau}.$ This script uses the algorithm described in Sec. 5 in `documentation.pdf`.\n",
    "One canspecify N and the correlation time $\\tilde{\\tau}$ using the variables `nstep` and `tau` in the code, respectively. \n",
    "The code also prints out $\\lang A\\rang$ and $\\sigma_A$.\n",
    "\n",
    "Verify that $\\{A_i\\}$ are Gaussian deviates, i.e., $\\lang A\\rang=0$ and $\\sigma_A=1.0$."
   ]
  },
  {
   "cell_type": "code",
   "execution_count": null,
   "metadata": {},
   "outputs": [],
   "source": [
    "def generate_gaussian_distrib(nsamples,tau):\n",
    "    \"\"\" \n",
    "    generate a sequence of independent Gaussian numbers with zero mean \n",
    "    and unit variance with correlation time tau\n",
    "    \"\"\"\n",
    "    f=np.exp(-1/tau)\n",
    "\n",
    "    Alist = np.empty(nsamples)\n",
    "    Alist[0] = np.random.normal(0,1)\n",
    "    for ii in range(1,nsamples):\n",
    "        Alist[ii] = f*Alist[ii-1] + np.sqrt(1-f**2)*np.random.normal(0,1)\n",
    "\n",
    "    return Alist\n",
    "\n",
    "tau=10\n",
    "nstep=600000\n",
    "\n",
    "A=generate_gaussian_distrib(nstep,tau)\n",
    "\n",
    "average = np.mean(A)\n",
    "std_deviation = np.std(A)\n",
    "\n",
    "print(\"Average:\", average)\n",
    "print(\"Standard Deviation:\", std_deviation)\n"
   ]
  },
  {
   "cell_type": "code",
   "execution_count": null,
   "metadata": {},
   "outputs": [],
   "source": [
    "# Plot the distribution of A\n",
    "plt.hist(A, bins=30, density=True, alpha=0.5, label='a')\n",
    "\n",
    "# Plot a normal distribution with mean = 0 and std = 1\n",
    "halfwidth=5\n",
    "x = np.linspace(-halfwidth, halfwidth, 100)\n",
    "y = (1 /  np.sqrt(2 * np.pi)) * np.exp(-0.5 * (x ** 2))\n",
    "plt.plot(x, y, color='red', label='Normal Distribution')\n",
    "\n",
    "plt.xlabel('Value')\n",
    "plt.xlim(-halfwidth, halfwidth)\n",
    "plt.ylabel('Density')\n",
    "plt.title('Distribution of A and Normal Distribution')\n",
    "plt.legend()\n",
    "\n",
    "plt.show()\n",
    "\n"
   ]
  },
  {
   "cell_type": "markdown",
   "metadata": {},
   "source": [
    "## 2. Evaluate the correlation\n",
    "Compute $C_{AA}(k)$  for different lenghts $k$ and then extract the correlation time $\\tilde{\\tau}$ using its definition (see eq. 14 in `documentation.pdf`)."
   ]
  },
  {
   "cell_type": "code",
   "execution_count": null,
   "metadata": {},
   "outputs": [],
   "source": [
    "krange=100\n",
    "\n",
    "caa_k=np.empty(0)\n",
    "for kk in range(krange):\n",
    "    ii=np.array(range(np.size(A)-kk))\n",
    "    aa=A[ii]\n",
    "    bb=A[ii+kk]\n",
    "    caa_k=np.append(caa_k,(np.mean(aa*bb)- np.mean(aa)*np.mean(bb))/np.var(A))\n",
    "    print(f\"{kk}/{krange}\",end='\\r')\n",
    "\n",
    "tau = np.sum(caa_k)-0.5*caa_k[0]\n",
    "print(f\"tau={tau:.2f}\")"
   ]
  },
  {
   "cell_type": "markdown",
   "metadata": {},
   "source": [
    "Plot the autocorrelation function and verify that is indeed an exponential decay.\n",
    "\n",
    "Fit the autocorrelation function with an exponential decay and verify that the fitted parameter `tau1` is close to `tau` computed using the definition of correlation time."
   ]
  },
  {
   "cell_type": "code",
   "execution_count": null,
   "metadata": {},
   "outputs": [],
   "source": [
    " \n",
    "# ... your code here ...\n",
    "\n",
    "# print(\"Decay time (tau1):\", tau1)\n"
   ]
  },
  {
   "cell_type": "markdown",
   "metadata": {},
   "source": [
    "## 3. Compute the statistical error\n",
    "Evaluate the statistical error using eq. 18 of `documentation.pdf`: $$\\sigma_I^2 = \\frac{\\sigma_A^2}{N}2\\tau$$"
   ]
  },
  {
   "cell_type": "code",
   "execution_count": null,
   "metadata": {},
   "outputs": [],
   "source": [
    "# ... your code here ..."
   ]
  },
  {
   "cell_type": "markdown",
   "metadata": {},
   "source": [
    "## 4. - 5. Blocking analysis\n",
    "The blocking analysis is performed by the following piece of code. `compute_error` computes the correlation time `taum`, the variance for the correlated sampling `sigI` and their errors.\n",
    "\n",
    "`blocking_step` reduces the sample size according to equation 22 in `documentation.pdf`"
   ]
  },
  {
   "cell_type": "code",
   "execution_count": null,
   "metadata": {},
   "outputs": [],
   "source": [
    "def compute_error(iblock, A, varA0, nstep):\n",
    "    taum = np.var(A)*2**(iblock-1)/varA0\n",
    "    sigI = np.sqrt(varA0*2*taum/nstep)\n",
    "    sd_taum = np.sqrt(2/np.size(A))*taum\n",
    "    sd_sigI = np.sqrt(0.5/len(A))*sigI\n",
    "\n",
    "    return taum, sigI, sd_taum, sd_sigI\n",
    "\n",
    "def blocking_step(A):\n",
    "    B =np.zeros(int(np.size(A)/2))\n",
    "    for i in range(int(np.size(A)/2)):\n",
    "        B[i] = (A[2*i]+A[2*i+1])/2\n",
    "    return B"
   ]
  },
  {
   "cell_type": "code",
   "execution_count": null,
   "metadata": {},
   "outputs": [],
   "source": [
    "ntrans=14\n",
    "\n",
    "A_iter=np.array(A)\n",
    "results=np.zeros((0,4))\n",
    "for ii in range(ntrans+1):\n",
    "    taum, sigI, sd_taum, sd_sigI = compute_error(ii, A_iter, np.var(A), nstep)\n",
    "    results=np.vstack((results,np.array([taum,sd_taum,sigI,sd_sigI])))\n",
    "    print(f\"iblock={ii}, taum={taum:.2f} +- {sd_taum:.5f}, sigI={sigI:.5f} +- {sd_sigI:.5f}\")\n",
    "\n",
    "    A_iter = blocking_step(A_iter)"
   ]
  },
  {
   "cell_type": "markdown",
   "metadata": {},
   "source": [
    "Use the blocking method and plot $\\sigma_I(M)$ and $\\tau(M)$ as a function of the block transformation step.\n",
    "\n",
    "Evaluate the statistical error at its plateau $\\sigma_I^{\\rm plateau}$ and the correlation time at its plateau $\\tau^{\\rm plateau}$.\n",
    "\n",
    "Compute the ratio $\\sigma_I^{\\rm plateau}/\\sigma_I(0)$ and check that it is equal to $\\sqrt{2\\tau}$.\n"
   ]
  },
  {
   "cell_type": "code",
   "execution_count": null,
   "metadata": {},
   "outputs": [],
   "source": [
    "# ... your code here ..."
   ]
  },
  {
   "cell_type": "markdown",
   "metadata": {},
   "source": [
    "## 6. Minimum number of samples\n",
    "At fixed $\\tau$ generate different data sequences increasing the number of samples, $N$.\n",
    "Determine the minimum number of samples that you need for an accurate evaluation on the correlation time and statistical error.\n",
    "\n",
    "What is the behavior of the statistical error as a function of $N$?\n"
   ]
  },
  {
   "cell_type": "code",
   "execution_count": null,
   "metadata": {},
   "outputs": [],
   "source": [
    "# ... your code here ..."
   ]
  },
  {
   "cell_type": "markdown",
   "metadata": {},
   "source": [
    "## 7. $\\sigma_I$ vs $\\tau$\n",
    "\n",
    "Calculate $\\sigma_I$ for many datasets with different correlation times (be sure that $\\tau \\ll 2^{M_{\\rm max}}$ with $M_{\\rm max} = \\log_2 N$).\n",
    "Plot $\\sigma_I(\\tau)$ as a function of the correlation time and show that $\\sigma_I(\\tau) = s\\sqrt(\\frac{2\\tau}{N})$ and $s=\\sigma_A$.\n"
   ]
  },
  {
   "cell_type": "code",
   "execution_count": null,
   "metadata": {},
   "outputs": [],
   "source": [
    "# ... your code here ..."
   ]
  }
 ],
 "metadata": {
  "kernelspec": {
   "display_name": "base",
   "language": "python",
   "name": "python3"
  },
  "language_info": {
   "codemirror_mode": {
    "name": "ipython",
    "version": 3
   },
   "file_extension": ".py",
   "mimetype": "text/x-python",
   "name": "python",
   "nbconvert_exporter": "python",
   "pygments_lexer": "ipython3",
   "version": "3.9.7"
  }
 },
 "nbformat": 4,
 "nbformat_minor": 2
}
