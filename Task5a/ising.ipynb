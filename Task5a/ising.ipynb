{
 "cells": [
  {
   "cell_type": "markdown",
   "metadata": {},
   "source": [
    "# Task 5a - Ising model\n",
    "\n",
    "### Goals:\n",
    "- check the onset of spontaneous magnetisation in the Ising model\n",
    "- find the critical temperature\n",
    "- check the discontinuity of the response properties at $T_c$"
   ]
  },
  {
   "cell_type": "markdown",
   "metadata": {},
   "source": [
    "# Ising model"
   ]
  },
  {
   "cell_type": "markdown",
   "metadata": {},
   "source": [
    "Finally, we demonstrate the application of Metropolis algorithm in one of the simplest phase change prototypes: a 2-dimensional Ising model.\n",
    "In Ising model, we consider a 2D lattice, and each lattice site is assigned to a configuration $s_i,$ which is a discrete variavle that can be either $+1$ or $-1$.\n",
    "The Hamiltonian of the model reads\n",
    "$$H=-J \\sum_{\\langle i j\\rangle} s_i s_j-\\mu h \\sum_j s_j,$$\n",
    "where J is the exchange energy, $\\mu$ is the atomic magnetic moment, and $h$ represents and external field.\n",
    "For simplicity, we set $J$ to unity and $h$ to zero (i.e. no magnetic field).\n",
    "The first summation in the Hamiltonian is over all pairs of *nearest neighbours* on the lattice.\n",
    "If we take the variable $s$ as a spin value, then the model is *ferromagnetic* if every lattice site has the same $s$ value, or *antiferromagnetic* if every two neighboring lattice sites have different spin values.\n",
    "The sign of the exchange energy $J$ determines if the system favors a ferromagnetic configuration or an antiferromagnetic one.\n",
    "For example, if $J>0$, a configuration with two pairing neighbours having parallel spin is favoured (ferromagnetism).\n",
    "\n"
   ]
  },
  {
   "cell_type": "markdown",
   "metadata": {},
   "source": [
    "Given the Hamiltonian above, we have the partition function $Z$\n",
    "$$Z=\\sum_{\\text {configs }} e^{-H(s) / k_B T},$$\n",
    "where $k_B$ is Boltzmann's constant, and $T$ is temperature.\n",
    "From the partition function, we might derive many properties such as free energy.\n",
    "We are not going through de details here.\n"
   ]
  },
  {
   "cell_type": "markdown",
   "metadata": {},
   "source": [
    "In this task, we're going to study the 2D Ising model using the Monte Carlo method.\n",
    "\n",
    "As a first step, a 2D lattice is initialized with some starting spin configuration.\n",
    "The spin configuration can be fully parallel, and this gives rise to a high net spin value.\n",
    "Here we introduce the **magnetization** $M:$\n",
    "$$M=\\frac{1}{N}\\sum_i s_i,$$\n",
    "where $N$ is the number of lattice sites.\n",
    "A parallel configuration leads to $M=\\pm 1.$\n",
    "This is the case at low temperatures.\n",
    "On the other hand, if the spin configuration is anti-aligned, then $M=0.$\n",
    "This corrisponds to a high temperature configuration.\n",
    "In between, when the environment is 'warm', spin values are randomly selected over the lattice sites.\n",
    "\n",
    "In the second step, we calculate the energy $E$ of the initial configuration\n",
    "$$E=-\\frac{1}{2} \\sum_i \\sum_{j \\in \\mathrm{NN}} s_i s_j,$$\n",
    "where 1/2 accounts for double counting in the summation and NN stands for nearest neighbour sites around site $i.$\n",
    "Periodic boundary conditions should be taken into account.\n",
    "\n",
    "Next, the spin of a random lattice site is flipped.\n",
    "This hives a new trial spin configuration.\n",
    "We then calculate the new energy $E_\\text{new}$ and we accept the new configuration if the new energy is lower than the new one (i.e. $\\Delta E = E_{\\text{new}}-E_{\\text{old}} \\leq 0$).\n",
    "Otherwise, we compare the probability of the Boltzmann factor $e^{-\\Delta E/kT}$ to a random number $\\eta\\in (0,1).$\n",
    "If the probability is larger, then the new configuration is accepted, otherwise the new configuration is rejected and the old one will be used as a starting point in the following iteration.\n",
    "\n",
    "After a number of Monte Carlo steps are performed, you can get the impression of the evolution of the spin configuration and magnetization of the Ising model.\n",
    "Recall that the Boltzmann factor is temperature dependent, so low $T$ and high $T$ will result in very different magnetisation bahaviour after a long run.\n",
    "\n",
    "\n"
   ]
  },
  {
   "cell_type": "code",
   "execution_count": null,
   "metadata": {},
   "outputs": [],
   "source": [
    "#!/usr/bin/env python\n",
    "\n",
    "import ising\n",
    "import numpy as np\n",
    "import time\n",
    "import matplotlib.pylab as plt\n",
    "from IPython.display import HTML\n",
    "from scipy.optimize import curve_fit"
   ]
  },
  {
   "cell_type": "markdown",
   "metadata": {},
   "source": [
    "## Spontaneous magnetisation\n",
    "\n",
    "Perform the Monte Carlo simulation of the Ising model for different initial spin configurations (`hot`, `cold ` or `warm`).\n",
    "\n",
    "In your simulation pay close attention to the changes in the magnetisation $M$ along the Monte Carlo steps.\n",
    "\n",
    "Does a low temperature give a spontanteous magnetisation $(M=\\pm 1)$?\n",
    "\n",
    "What happens if the temperature is very high?\n",
    "\n",
    "<div class=\"alert alert-block alert-info\"><b>TODO:</b> Perform the Monte Carlo simulation of the Ising model for different initial spin configurations (`hot`, `cold ` or `warm`) and different temperatures and compare the results.\n",
    " </div>"
   ]
  },
  {
   "cell_type": "code",
   "execution_count": null,
   "metadata": {},
   "outputs": [],
   "source": [
    "\n",
    "# ---------------------------------------------------------------------\n",
    "\n",
    "ngrid = 20              # we use a 10x10grid \n",
    "neq = 100              # Number of equilibration step (multipled by nskip)\n",
    "nstep= 1500             # Number of sampling\n",
    "nskip = 5              # number of steps to be skipped between two samplings\n",
    "init_status = 'warm'   # initial status of the spin configuration\n",
    "kT = 0.8               # temperature\n",
    "scheme = 'random'        # flip scheme: either ’random’ or ’scan’\n",
    "verbose = 0            # 1 = enable, 0 = disable output\n",
    "\n",
    "\n",
    "calc  = ising.ising(ngrid, nstep, nskip, neq, init_status, kT, scheme)   # init the ising object\n",
    "calc.run(verbose)               # self-explanatory\n",
    "\n"
   ]
  },
  {
   "cell_type": "code",
   "execution_count": null,
   "metadata": {},
   "outputs": [],
   "source": [
    "\n",
    "# Show an animation of the spins\n",
    "# it might take some time and fill the available memory\n",
    "# try to keep the number of frames low by stetting an appropriate value\n",
    "# for `plot_every`\n",
    "\n",
    "anim = calc.animation_jupyter(plot_every=30)\n",
    "\n",
    "# Display the animation in the notebook\n",
    "from IPython.display import HTML\n",
    "\n",
    "#set matplotlib in interactive mode, needed if using jupyter\n",
    "%matplotlib notebook \n",
    "HTML(anim.to_jshtml())"
   ]
  },
  {
   "cell_type": "code",
   "execution_count": null,
   "metadata": {},
   "outputs": [],
   "source": [
    "# Or alternatively just show a single frame (faster):\n",
    "\n",
    "# re-set normal matplotlib backend\n",
    "%matplotlib inline\n",
    "\n",
    "calc.plot_step(calc.nstep)\n",
    "plt.show()"
   ]
  },
  {
   "cell_type": "code",
   "execution_count": null,
   "metadata": {},
   "outputs": [],
   "source": [
    "# Plot the magnetization\n",
    "plt.figure()\n",
    "plt.plot(calc.arrM)\n",
    "plt.ylabel('M')\n",
    "plt.xlabel('step')\n",
    "plt.show()"
   ]
  },
  {
   "cell_type": "markdown",
   "metadata": {},
   "source": [
    "## Critical temperature\n",
    "\n",
    "**Locate the temperature $T_c$ at which a phase change takes place.**\n",
    "You can get an idea of what $T_c$ is by investigating how the modulus of the magnetisation $|M|$ at the end of the simulation varies with $kT$.\n",
    "\n",
    "<div class=\"alert alert-block alert-info\"><b>TODO:</b> Run a series of simulations to show the behaviour of |M| as a function of kT </div>"
   ]
  },
  {
   "cell_type": "code",
   "execution_count": null,
   "metadata": {},
   "outputs": [],
   "source": [
    "# Your code here"
   ]
  },
  {
   "cell_type": "markdown",
   "metadata": {},
   "source": [
    "## Response properties\n",
    "\n",
    "The specific head density $C_v$ can be expressed in terms of the variance of the energy\n",
    "$$C_v=\\left(\\left\\langle E^2\\right\\rangle-\\langle E\\rangle^2\\right) / k T.$$\n",
    "\n",
    "In a similar way, the magnetic susceptibility $\\chi$ can ve obtained from the variance of the magnetisation (fluctuation-dissipation theorem):\n",
    "$$ \\chi=\\left(\\left\\langle M^2\\right\\rangle-\\langle M\\rangle^2\\right) / k T. $$\n",
    "\n",
    "Several independent configuration runs are needed to perform an ensemble average for these two parameters.\n",
    "For each temperature, make sure that thermal equilibrium has been reached, which might take a long time using single-flip (`scheme=random`) Metropolis scheme.\n",
    "You can use `scheme=scan` for faster equilibration.\n",
    "\n",
    "<div class=\"alert alert-block alert-info\"><b>TODO:</b> Generate a plot of \\chi and Cv vs kT </div>\n",
    "\n",
    "The simulation takes some time; you can find an example of the results in the files `ising_chi_example.dat` and `ising_heat_example.dat`\n"
   ]
  },
  {
   "cell_type": "code",
   "execution_count": null,
   "metadata": {},
   "outputs": [],
   "source": [
    "\n",
    "# ---------------------------------------------------------------------\n",
    "# susceptibility\n",
    "\n",
    "ngrid = 16\n",
    "nstep = 1000\n",
    "nskip = ngrid**2\n",
    "neq = 200\n",
    "init_status = 'hot'\n",
    "kT = 2.29\n",
    "verbose = 0\n",
    "scheme = 'scan' \n",
    "tmin = 1.5\n",
    "tmax = 3.2\n",
    "tp = 30            # number of temperatures\n",
    "m = np.zeros((tp,3))\n",
    "m[:,0] = np.linspace(tmin,tmax,tp)  # list of temperatures to be investigated\n",
    "\n",
    "nrep = 15 \n",
    "t_start = time.time()\n",
    "\n",
    "for i in range(tp):\n",
    "   print(f\"T = {m[i,0]:4.2f} ({i+1}/{tp})\")\n",
    "   print('Replica = ',end='')\n",
    "   for j in range(nrep):\n",
    "       print(f'{j} ',end='')\n",
    "       calc = ising.ising(ngrid, nstep, nskip, neq, init_status, m[i,0], scheme)\n",
    "       calc.run(verbose)\n",
    "       m[i,1] += np.abs(calc.mavg)\n",
    "       m[i,2] += (calc.m2avg - calc.mavg**2)/m[i,0]\n",
    "   print(\"Time: {0:6.2f}s\".format(time.time()-t_start))\n",
    "\n",
    "m[:,1] /= nrep            # <M>\n",
    "m[:,2] /= nrep         # chi  \n",
    "\n",
    "np.savetxt('ising_chi.dat', m)    \n"
   ]
  },
  {
   "cell_type": "markdown",
   "metadata": {},
   "source": [
    "Adapt the code above to find $C_v$.\n",
    "\n",
    "You can retrieve $\\langle E^2 \\rangle$ and $\\langle E \\rangle$ from the `calc.E02avg` and `calc.E0avg`."
   ]
  },
  {
   "cell_type": "code",
   "execution_count": null,
   "metadata": {},
   "outputs": [],
   "source": [
    "# Specific heat\n",
    "\n",
    "# your code here\n",
    "\n"
   ]
  },
  {
   "cell_type": "code",
   "execution_count": null,
   "metadata": {},
   "outputs": [],
   "source": [
    "data=np.loadtxt('ising_heat_example.dat')\n",
    "\n",
    "plt.plot(data[:,0],data[:,2]/calc.ngrid, marker='x', lw=.5)\n",
    "plt.xlabel('kT')\n",
    "plt.ylabel('chi')"
   ]
  }
 ],
 "metadata": {
  "kernelspec": {
   "display_name": "base",
   "language": "python",
   "name": "python3"
  },
  "language_info": {
   "codemirror_mode": {
    "name": "ipython",
    "version": 3
   },
   "file_extension": ".py",
   "mimetype": "text/x-python",
   "name": "python",
   "nbconvert_exporter": "python",
   "pygments_lexer": "ipython3",
   "version": "3.9.7"
  }
 },
 "nbformat": 4,
 "nbformat_minor": 2
}
