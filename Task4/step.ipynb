{
 "cells": [
  {
   "cell_type": "markdown",
   "id": "b3dadfadcee062cd",
   "metadata": {
    "collapsed": false
   },
   "source": [
    "# Task III: NVT molecular dynamics simulations (Part II)"
   ]
  },
  {
   "cell_type": "markdown",
   "id": "e252beb73b63558f",
   "metadata": {
    "collapsed": false
   },
   "source": [
    "## Startup\n",
    "\n",
    "Set up the kernel\n",
    "\n",
    "<center><img src=\"figures/fig1.png\" width=1100 height=240 /></center>\n",
    "\n",
    "<center><img src=\"figures/fig2.png\" width=350 height=240 /></center>\n",
    "\n",
    "run the following cells using `shift` + `enter`"
   ]
  },
  {
   "cell_type": "code",
   "execution_count": null,
   "id": "9f9e25b75c006f69",
   "metadata": {
    "ExecuteTime": {
     "end_time": "2023-10-17T14:46:21.212095Z",
     "start_time": "2023-10-17T14:46:18.217632Z"
    }
   },
   "outputs": [],
   "source": [
    "from test_ran import main as test_ran\n",
    "from test_corr import main as test_corr\n",
    "from ran_gauss import main as ran_gauss\n",
    "from ran_walk import ran_walk\n",
    "import numpy as np\n",
    "import matplotlib.pyplot as plt\n",
    "import scipy.special"
   ]
  },
  {
   "cell_type": "markdown",
   "id": "83d1c9ac1c2cfc32",
   "metadata": {
    "collapsed": false
   },
   "source": [
    "## Goals\n",
    "- Generate sequences of RNs using different RNGs\n",
    "- Perform several statistical tests to check statistical fluctuations and correlations\n",
    "- Generate normally distributed RNs\n",
    "- Perform a 1D random walk and compute the diffusion coefficient"
   ]
  },
  {
   "cell_type": "markdown",
   "id": "91e15934bacdda3c",
   "metadata": {
    "collapsed": false
   },
   "source": [
    "## Step 1: Generate sequences of RNs using different RNGs\n"
   ]
  },
  {
   "cell_type": "markdown",
   "id": "b1602bfc",
   "metadata": {},
   "source": [
    "the function `test_ran` calls the selected RNG for the desired number of times and performs a binning of the\n",
    "sequence of RNs so obtained. For the moment being, specify nexp=1, e.g.\n",
    "\n",
    "```python\n",
    "iran = 0 # which randum number generator to select. The allowed number is 0, 1, 2, 3\n",
    "ntry = 1100 # the number of tries, i.e. how many random numbers to generate\n",
    "nbins2 = 11 # the number of bins\n",
    "nexp = 1 # the number of experiments, for each experiment do one chi^2 point (see below)\n",
    "```\n",
    "(ignore the warning about nexp). In this example, the histogram will be saved in a file\n",
    "named histo-ran0_1x1100-11.\n",
    "\n",
    "The detail of random number generators (RNGs), namely, ran0, ran1, ran2, and ran3 are provided in the Numerical Recipes book\n",
    "(reference in the task moodle webpage). "
   ]
  },
  {
   "cell_type": "code",
   "execution_count": null,
   "id": "4955004f",
   "metadata": {},
   "outputs": [],
   "source": [
    "iran = 0\n",
    "ntry = 1100\n",
    "nbins2 = 11\n",
    "nexp = 1\n",
    "test_ran(iran, ntry, nbins2, nexp)"
   ]
  },
  {
   "cell_type": "markdown",
   "id": "fcded9f5",
   "metadata": {},
   "source": [
    "<div class=\"alert alert-block alert-info\"><b>TODO:</b> Visualize the frequency histogram and compare two histograms built from RN sequences of different lengths. (ntry) </div>\n"
   ]
  },
  {
   "cell_type": "code",
   "execution_count": null,
   "id": "19172609",
   "metadata": {},
   "outputs": [],
   "source": [
    "# Insert here the name of the files to plot\n",
    "filef=[\n",
    "    'histo-ran0_1x1100-11',\n",
    "    # insert more files here\n",
    "    ]\n",
    "\n",
    "color=['black','red','blue','green']\n",
    "\n",
    "i=0\n",
    "for filename in filef:\n",
    "    i+=1\n",
    "    x=[]\n",
    "    y=[]\n",
    "    for l in open(filename,'r'):\n",
    "        x.append(float(l.split()[0]))\n",
    "        y.append(float(l.split()[1]))\n",
    "    x=np.array(x)\n",
    "    y=np.array(y)\n",
    "    width=x[1]-x[0]\n",
    "    plt.bar(x,y,width,facecolor='none',edgecolor=color[i], label=filename)\n",
    "\n",
    "\n",
    "plt.plot((0,1),(1,1))\n",
    "plt.xlim([0,1])\n",
    "plt.legend()\n",
    "plt.show()\n",
    "\n"
   ]
  },
  {
   "cell_type": "markdown",
   "id": "afa9b883",
   "metadata": {},
   "source": [
    "\n",
    "Since the number of trials is not very large, for each bin the frequency obtained in this\n",
    "numerical experiment may be much different from the ideal value for a uniform deviate\n",
    "(i.e., constant between 0 and 1). How to understand if this observed fluctuations are\n",
    "statistically acceptable?\n"
   ]
  },
  {
   "cell_type": "markdown",
   "id": "2c617699",
   "metadata": {},
   "source": [
    "## Step 2: Perform several statistical tests to check statistical fluctuations and correlations"
   ]
  },
  {
   "cell_type": "markdown",
   "id": "aa5f165f",
   "metadata": {},
   "source": [
    "### Step 2.1"
   ]
  },
  {
   "cell_type": "markdown",
   "id": "cd2a740a",
   "metadata": {},
   "source": [
    "perform a $\\chi^2$\n",
    "statistic test (see Giordano&Nakanishi’s book): use the function `test_ran` and specify a large number of experiments (at least 1000). This performs a sufficiently\n",
    "high number of experiments and, for each of them, computes the $\\chi^2$\n",
    ", which is then collect in a histogram. The integral of this histogram (i.e., the cumulative distribution of the $\\chi^2$\n",
    "), should be the incomplete Gamma function, P(a,x), with a equal to half\n",
    "the number of degrees of freedom, in our case:\n",
    "$$\n",
    " a=(nbins-1)/2  \\\\\n",
    " x=(\\chi^2)/2. \n",
    "$$\n",
    "The frequency of $\\chi^2$ values and its integral are stored in the second and third column of\n",
    "chisq-ran0_1000x1100-11, respectively. Compare the cumulative distributions\n",
    "obtained from different RNGs with the theoretical one, P(5,$\\chi^2$\n",
    "/ 2). Now, try to run the following code to see the $\\chi^2$ test."
   ]
  },
  {
   "cell_type": "code",
   "execution_count": null,
   "id": "9205eb23",
   "metadata": {},
   "outputs": [],
   "source": [
    "# example\n",
    "iran = 0\n",
    "ntry = 1100\n",
    "nbins2 = 11\n",
    "nexp = 1000\n",
    "test_ran(iran, ntry, nbins2, nexp)"
   ]
  },
  {
   "cell_type": "markdown",
   "id": "7716030a",
   "metadata": {},
   "source": [
    "<div class=\"alert alert-block alert-info\"><b>TODO:</b> test all the random number generators, `ran0` `ran1` `ran2` `ran3`, and plot them compare with theoretical P(5, sigma)</div>"
   ]
  },
  {
   "cell_type": "code",
   "execution_count": null,
   "id": "3d865266",
   "metadata": {},
   "outputs": [],
   "source": [
    "for i in range(4):\n",
    "    iran = i\n",
    "    ntry = 1100\n",
    "    nbins2 = 11\n",
    "    nexp = 1000\n",
    "    test_ran(iran, ntry, nbins2, nexp)"
   ]
  },
  {
   "cell_type": "code",
   "execution_count": null,
   "id": "20908d76",
   "metadata": {},
   "outputs": [],
   "source": [
    "nbins2 = 11\n",
    "filef=[\n",
    "    'chisq-ran0_1000x1100-11',\n",
    "    'chisq-ran1_1000x1100-11',\n",
    "    'chisq-ran2_1000x1100-11',\n",
    "    'chisq-ran3_1000x1100-11',\n",
    "    ]\n",
    "# your plot of chi^2 of here\n",
    "for filename in filef:\n",
    "    f=open(filename,'r')\n",
    "    lx=[]\n",
    "    ly=[]\n",
    "    lyt=[]\n",
    "    for l in f:\n",
    "        x=l.split()\n",
    "        x0=float(x[0])\n",
    "        lx.append(x0)\n",
    "        ly.append(float(x[2]))\n",
    "        lyt.append(scipy.special.gammainc((nbins2-1)/2,x0))  \n",
    "    lx=np.array(lx)\n",
    "    ly=np.array(ly)\n",
    "    lyt=np.array(lyt)\n",
    "    plt.plot(lx/2,ly,label=filename)\n",
    "    plt.plot(lx,lyt,label='Theo.')\n",
    "plt.legend()\n",
    "plt.ylabel('$\\chi^2$')\n",
    "plt.show()"
   ]
  },
  {
   "cell_type": "markdown",
   "id": "b105f66f",
   "metadata": {},
   "source": [
    "### Step 2.2"
   ]
  },
  {
   "cell_type": "markdown",
   "id": "908777eb",
   "metadata": {},
   "source": [
    "make a correlation test in k-space using `test_corr`; all the RNGs provided here\n",
    "should work well (i.e. they should fill the k-dimensional space uniformly), unless you\n",
    "use a linear congruential generator (LCG) with non-optimal parameters (use iran=9\n",
    "to select the LCG parameters (a,c,m,i0)); "
   ]
  },
  {
   "cell_type": "code",
   "execution_count": null,
   "id": "c0b7bc14",
   "metadata": {},
   "outputs": [],
   "source": [
    "# example for iran = 0, 1, 2, 3\n",
    "iran = 0\n",
    "ntry = 1000\n",
    "ndim = 2\n",
    "test_corr(iran, ntry, ndim)"
   ]
  },
  {
   "cell_type": "code",
   "execution_count": null,
   "id": "53f39f16",
   "metadata": {},
   "outputs": [],
   "source": [
    "# example for iran = 9\n",
    "iran = 9\n",
    "ntry = 1000\n",
    "ndim = 2\n",
    "ia = 10 # for iran = 9\n",
    "ic = 0 #  for iran = 9\n",
    "im = 509 # for iran = 9\n",
    "i0 = 1 # for iran = 9\n",
    "test_corr(iran, ntry, ndim, ia=ia, ic=ic, im=im, i0=i0)"
   ]
  },
  {
   "cell_type": "markdown",
   "id": "f7d991f2",
   "metadata": {},
   "source": [
    "<div class=\"alert alert-block alert-info\"><b>TODO:</b> Produce 2-dimensional plots for all RNGs from the data in the files `corr-ran?_2dim-???` (use idim=2). What do you observe?</div>\n"
   ]
  },
  {
   "cell_type": "code",
   "execution_count": null,
   "id": "e25d9362",
   "metadata": {},
   "outputs": [],
   "source": [
    "# Files to be open for correlation\n",
    "filef_corr=[\n",
    "     # put the file name here, supposed to be 'corr-ran?_2dim-????',\n",
    "     'corr-ran0_2dim-1000'\n",
    "    ]\n",
    "for filename in filef_corr:\n",
    "    x=[]\n",
    "    y=[]\n",
    "    for l in open(filename,'r'):\n",
    "        x.append(float(l.split()[0]))\n",
    "        y.append(float(l.split()[1]))\n",
    "    x=np.array(x)\n",
    "    y=np.array(y)\n",
    "    plt.plot(x,y,'.')\n",
    "\n",
    "plt.xlim([0,1])\n",
    "plt.show()\n"
   ]
  },
  {
   "cell_type": "markdown",
   "id": "09f462ac",
   "metadata": {},
   "source": [
    "### Step 2.3"
   ]
  },
  {
   "cell_type": "markdown",
   "id": "67281f5c",
   "metadata": {},
   "source": [
    "\n",
    "`test_corr` also prints the average of all RNs immediately following a very small\n",
    "RN (if there is at least one such event); "
   ]
  },
  {
   "cell_type": "markdown",
   "id": "5e4811af",
   "metadata": {},
   "source": [
    "<div class=\"alert alert-block alert-info\"><b>TODO:</b>compare the average of RNs from ran0 with ntry=1000 and ntry=1000000.</div>"
   ]
  },
  {
   "cell_type": "code",
   "execution_count": null,
   "id": "56c4abb3",
   "metadata": {},
   "outputs": [],
   "source": [
    "# example for iran = 0, 1, 2, 3\n",
    "iran = 0\n",
    "ntry = 1000000\n",
    "ndim = 2\n",
    "test_corr(iran, ntry, ndim)"
   ]
  },
  {
   "cell_type": "markdown",
   "id": "a6696250",
   "metadata": {},
   "source": [
    "If the number of iterations is large enough, we get random numbers with values less than $10^{−5}$. We see that\n",
    "for the case of `iran=0`, the number that follows a very small number is on average small (approximately 0.06), while for a\n",
    "uniform distribution it should be 0.5. Hence, `iran=0` fails this test"
   ]
  },
  {
   "cell_type": "markdown",
   "id": "f3fb71dd",
   "metadata": {},
   "source": [
    "### Step 2.4"
   ]
  },
  {
   "cell_type": "markdown",
   "id": "01df40b5",
   "metadata": {},
   "source": [
    "<div class=\"alert alert-block alert-info\"><b>(Optional)TODO:</b> compute the distribution of the product and of the difference of pairs of\n",
    "RNs using `test_corr`; compare the data in distprod-ran?_??? (columns\n",
    "2 against 1 for the difference, 4 against 3 for the product) with the corresponding theoretical distributions</div>"
   ]
  },
  {
   "cell_type": "code",
   "execution_count": null,
   "id": "40cf57a4",
   "metadata": {},
   "outputs": [],
   "source": [
    "# Insert here the name of the files to plot\n",
    "filef_dist=[\n",
    "        'distprod-ran0_1000',\n",
    "        ]\n",
    "\n",
    "\n",
    "\n",
    "for filename in filef_dist:\n",
    "    x=[]\n",
    "    y=[]\n",
    "    for l in open(filename,'r'):\n",
    "        x.append(float(l.split()[0]))\n",
    "        y.append(float(l.split()[1]))\n",
    "    x=np.array(x)\n",
    "    y=np.array(y)\n",
    "    plt.plot(x,y,'.')\n",
    "\n",
    "yt=-np.log(x)\n",
    "plt.xlim([0,1])\n",
    "plt.ylabel('Product')\n",
    "plt.plot(x,yt,label='Theo.')\n",
    "plt.legend()\n",
    "plt.show()\n",
    "\n",
    "for filename in filef_dist:\n",
    "    x=[]\n",
    "    y=[]\n",
    "    for l in open(filename,'r'):\n",
    "        x.append(float(l.split()[2]))\n",
    "        y.append(float(l.split()[3]))\n",
    "    x=np.array(x)\n",
    "    y=np.array(y)\n",
    "    plt.plot(x,y,'.')\n",
    "\n",
    "plt.xlim([-1,1])\n",
    "plt.ylabel('Difference')\n",
    "plt.plot((-1,0,1),(0,2,0),label='Theo.')\n",
    "plt.legend()\n",
    "plt.show()"
   ]
  },
  {
   "cell_type": "markdown",
   "id": "f2f04603",
   "metadata": {},
   "source": [
    "### Step 2.5"
   ]
  },
  {
   "cell_type": "markdown",
   "id": "5fe6956b",
   "metadata": {},
   "source": [
    "perform a two-dimensional $\\chi^2$\n",
    "test for pairs of RNs (you can use the script\n",
    "test_chisq2d.py); ran0 and ran1 should fail the test for very long RN sequences (but shorter than the RNG period). As the script takes ages to run, the output\n",
    "can be found in the subfolder `output_test_chisq2d`.\n"
   ]
  },
  {
   "cell_type": "code",
   "execution_count": null,
   "id": "1b2ee6e6",
   "metadata": {},
   "outputs": [],
   "source": [
    "# this codes produce chisq2d for pairs of RNs.\n",
    "# This taks a long time to run. You can find output files in the folder output_test_chisq2d\n",
    "import test_ran\n",
    "import time\n",
    "\n",
    "ran=[0,1,2,3]\n",
    "tryy=[110000,1100000,11000000,110000000]\n",
    "ibin=11\n",
    "iexp=1000\n",
    "\n",
    "for ir in ran:\n",
    "    print('iran={}'.format(ir))\n",
    "    for it in tryy:\n",
    "        print('ntry={}'.format(it))\n",
    "        a=time.time()\n",
    "        test_ran.main(ir,it,ibin,iexp)\n",
    "        b=time.time()\n",
    "        print(str(b-a)+\" second\")\n",
    "\n"
   ]
  },
  {
   "cell_type": "markdown",
   "id": "b6e80ba8",
   "metadata": {},
   "source": [
    "<div class=\"alert alert-block alert-info\"><b>(Optional)TODO:</b>Perform (not necessary) and plot two dimensional chi^2  test</div>\n"
   ]
  },
  {
   "cell_type": "code",
   "execution_count": null,
   "id": "da3bb109",
   "metadata": {},
   "outputs": [],
   "source": [
    "# Parameters for the theoretical curve\n",
    "n=500 # Number of points for the incomplete gamma function\n",
    "xmax=200 # Maximum values\n",
    "\n",
    "# Insert here the name of the files to plot\n",
    "filef=[\n",
    "    './output_test_chisq2d/chisq2d-ran0_1000x110000-11',\n",
    "    './output_test_chisq2d/chisq2d-ran0_1000x1100000-11',\n",
    "    './output_test_chisq2d/chisq2d-ran0_1000x11000000-11',\n",
    "    './output_test_chisq2d/chisq2d-ran0_1000x110000000-11',\n",
    "    ]\n",
    "\n",
    "xig=np.zeros(n)\n",
    "yig=np.zeros(n)\n",
    "\n",
    "color=['black','red','blue','green']\n",
    "\n",
    "i=0\n",
    "for filename in filef:\n",
    "    x=[]\n",
    "    y=[]\n",
    "    for l in open(filename,'r'):\n",
    "        x.append(float(l.split()[0]))\n",
    "        y.append(float(l.split()[2]))\n",
    "    x=np.array(x)\n",
    "    y=np.array(y)\n",
    "    plt.plot(x/2,y,label=filef[i])\n",
    "    i+=1\n",
    "\n",
    "for i in range(n):\n",
    "    xig[i]=i/n*xmax\n",
    "    yig[i]=scipy.special.gammainc(60,xig[i])\n",
    "\n",
    "plt.plot(xig,yig,label='Theo.')\n",
    "\n",
    "\n",
    "plt.legend(loc=4)\n",
    "plt.ylabel('$\\chi^2$ 2d')\n",
    "plt.xlim(0,xmax)\n",
    "plt.ylim(0,1.01)\n",
    "plt.show()"
   ]
  },
  {
   "cell_type": "markdown",
   "id": "5695fff5",
   "metadata": {},
   "source": [
    "## Step 3: Generate normally distributed RNs"
   ]
  },
  {
   "cell_type": "markdown",
   "id": "7518325b",
   "metadata": {},
   "source": [
    "with the program `ran_gauss` you can generate\n",
    "a sequence of RNs distributed according to a normal Gaussian distribution using the Box-Muller method or the Central Limit theorem. A histogram of the frequencies is computed\n",
    "and saved in a file named, e.g., histo-gaussBM_10000"
   ]
  },
  {
   "cell_type": "markdown",
   "id": "e4b846ba",
   "metadata": {},
   "source": [
    "<div class=\"alert alert-block alert-info\"><b>TODO:</b> visualize it and compare\n",
    "with the ideal normal distribution function </div>\n"
   ]
  },
  {
   "cell_type": "markdown",
   "id": "ee21ce5e",
   "metadata": {},
   "source": [
    "the  normal distribution function, e.g.\n",
    "$$\n",
    "\\frac{1}{\\sqrt{2\\pi}}\\exp(-0.5x^2)\n",
    "$$"
   ]
  },
  {
   "cell_type": "code",
   "execution_count": null,
   "id": "c05fb5bc",
   "metadata": {},
   "outputs": [],
   "source": [
    "# try the following codes\n",
    "# method 1=Box-Muller\n",
    "method = 1\n",
    "ntry = 100000\n",
    "ran_gauss(method=method, ntry=ntry)"
   ]
  },
  {
   "cell_type": "code",
   "execution_count": null,
   "id": "a750e422",
   "metadata": {},
   "outputs": [],
   "source": [
    "# try the following codes\n",
    "# method 2=C.L. theor.\n",
    "method = 2\n",
    "nsum = 4\n",
    "ntry = 100000\n",
    "ran_gauss(method=method, nsum=nsum, ntry=ntry)"
   ]
  },
  {
   "cell_type": "markdown",
   "id": "867858fd",
   "metadata": {},
   "source": [
    "In the Center Limit method you can choose the number of uniform random variables that should be\n",
    "added to obtain a single gaussian distributed variable.(i.e. `nsum`) "
   ]
  },
  {
   "cell_type": "markdown",
   "id": "fa80b00c",
   "metadata": {},
   "source": [
    "<div class=\"alert alert-block alert-info\"><b>TODO:</b> Check how the distribution of the\n",
    "sum changes as you increase nsum (it should approximate a gaussian already at a\n",
    "reasonably small number) </div>\n"
   ]
  },
  {
   "cell_type": "code",
   "execution_count": null,
   "id": "81ff029a",
   "metadata": {},
   "outputs": [],
   "source": [
    "# method 2=C.L. theor.\n",
    "method = 2\n",
    "for nsum in range(1,6):  # you can change the range for nsum\n",
    "    ntry = 100000\n",
    "    ran_gauss(method=method, nsum=nsum, ntry=ntry)"
   ]
  },
  {
   "cell_type": "markdown",
   "id": "9b3e2dca",
   "metadata": {},
   "source": [
    "(Optional) Modify the code to compute the $\\chi^2$ test for the Gaussian distribution"
   ]
  },
  {
   "cell_type": "markdown",
   "id": "49e174e3",
   "metadata": {},
   "source": [
    "## Step 4: Perform a 1D random walk and compute the diffusion coefficient"
   ]
  },
  {
   "cell_type": "markdown",
   "id": "a36e8205",
   "metadata": {},
   "source": [
    "Perform a 1D random walk and compute the diffusion coefficient using the `ran_walk`\n",
    "code. "
   ]
  },
  {
   "cell_type": "code",
   "execution_count": null,
   "id": "1c9d424d",
   "metadata": {},
   "outputs": [],
   "source": [
    "nwalk = 1000\n",
    "nstep = 10000\n",
    "ran_walk(nwalk=nwalk, nstep=nstep)"
   ]
  },
  {
   "cell_type": "markdown",
   "id": "64eb497e",
   "metadata": {},
   "source": [
    "<div class=\"alert alert-block alert-info\"><b>TODO:</b> Compare the diffusion coefficient with the theoretical value </div>"
   ]
  },
  {
   "cell_type": "markdown",
   "id": "8caba983",
   "metadata": {},
   "source": [
    "Diffusion coefficient can be calculated from the m.s.d. through the following relation\n",
    "$$\n",
    "\\left<x^2\\right> = 2Dt,\n",
    "$$\n",
    "where t is time, which is equal to the step number in our case. The theoretical value of the diffusion coefficient\n",
    "can be found from $D = \\frac{L^2} {2\\Delta t}$, considering that in our calculations $L = \\Delta t = 1$, we get $D = 1/2$."
   ]
  }
 ],
 "metadata": {
  "kernelspec": {
   "display_name": "Python 3",
   "language": "python",
   "name": "python3"
  },
  "language_info": {
   "codemirror_mode": {
    "name": "ipython",
    "version": 3
   },
   "file_extension": ".py",
   "mimetype": "text/x-python",
   "name": "python",
   "nbconvert_exporter": "python",
   "pygments_lexer": "ipython3",
   "version": "3.8.18"
  }
 },
 "nbformat": 4,
 "nbformat_minor": 5
}
