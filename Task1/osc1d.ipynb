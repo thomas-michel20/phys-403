{
 "cells": [
  {
   "cell_type": "code",
   "execution_count": null,
   "metadata": {},
   "outputs": [],
   "source": [
    "import typing as ty              # Python typing hints\n",
    "import numpy as np               # NumPy numerical library\n",
    "import numpy.typing as npt       # NumPy type annotations\n",
    "import matplotlib.pyplot as plt  # Matlab-like plotting library\n",
    "\n",
    "# Utilty functions:\n",
    "# Fit a line to (x, y) and return the estimate of y and the slope of the line\n",
    "#     fit_line(x, y) -> (y_est, a)\n",
    "# Plot the results returned by `solve`\n",
    "#     plot_solution(exact, approximate, solver_name) -> a very nice, very pretty plot\n",
    "from utilities import fit_line, plot_solution"
   ]
  },
  {
   "cell_type": "markdown",
   "metadata": {},
   "source": [
    "## Introduction\n",
    "\n",
    "In this exercise, we will be implementing and comparing Euler, predictor-corrector, and Verlet\n",
    "integration methods to solve the one-dimensional harmonic oscillator\n",
    "\n",
    "$$\n",
    "\\ddot{x} = -x.\n",
    "$$\n",
    "\n",
    "The exact solution to the oscillator is \n",
    "$$x(t) = sin(t)$$\n",
    "$$\\dot{x}(t) = v(t) = cos(t),$$\n",
    "which is provided by the function `exact(t)`.\n"
   ]
  },
  {
   "cell_type": "code",
   "execution_count": null,
   "metadata": {},
   "outputs": [],
   "source": [
    "def exact(t: npt.ArrayLike) -> tuple[npt.ArrayLike, npt.ArrayLike]:\n",
    "    \"\"\"Calculate the exact position and velocity as functions of the time `t`.\n",
    "\n",
    "    Args:\n",
    "        t (npt.ArrayLike): Time (N,)\n",
    "\n",
    "    Returns:\n",
    "        tuple[npt.ArrayLike, npt.ArrayLike]: Exact position (N,) and velocity (N,)\n",
    "    \"\"\"\n",
    "    x = np.sin(t)  # Exact position x(t) = sin(t)\n",
    "    v = np.cos(t)  # Exact velocity v(t) = dx(t)/dt = cos(t)\n",
    "    return x, v"
   ]
  },
  {
   "cell_type": "markdown",
   "metadata": {},
   "source": [
    "Let's plot the exact solution to see what it looks like.\n",
    "\n",
    "First, we need a function to help us evaluate the exact and approximate solutions. For that purpose, we've defined the function `solve(x0, v0, N, j, approximate_solver)` below."
   ]
  },
  {
   "cell_type": "code",
   "execution_count": null,
   "metadata": {},
   "outputs": [],
   "source": [
    "def solve(\n",
    "    approximate_solver=None,\n",
    "    x0: float = 0.0,\n",
    "    v0: float = 1.0,\n",
    "    N: int = 100,\n",
    "    j: float = 2.0,\n",
    ") -> dict[str, ty.Union[None, str, dict[str, npt.ArrayLike]]]:\n",
    "    \"\"\"Use `approximate_solver` to compute position and velocity as functions of time with a\n",
    "    time step 2 * pi * j / N for N steps.\n",
    "    \n",
    "    Args:\n",
    "        x0 (float): Initial position\n",
    "        v0 (float): Initial velocity\n",
    "        N (int): Length of the trajectory\n",
    "        j (float): Number of periods\n",
    "        approximate_solver: Solver function which takes arguments (x0, v0, dt, N)\n",
    "    \n",
    "    Returns:\n",
    "        dict: Dictionary with keys: \n",
    "            'solver_name' (Union[None, str]): name of the approximate solver if provided \n",
    "            'exact' (dict[str, npt.ArrayLike]):\n",
    "                't' (npt.ArrayLike: Time (N,)),\n",
    "                'x' (npt.ArrayLike: Position (N,)),\n",
    "                'v' (npt.ArrayLike: Velocity (N,)), and\n",
    "                'E' (npt.ArrayLike: Energy (N,))\n",
    "            'approximate' (dict[str, npt.ArrayLike]): same shape as `exact` if approximate\n",
    "                solver is provided.\n",
    "    \"\"\"\n",
    "    # Compute the time step needed to cover `j` periods in `N` points.\n",
    "    dt = 2 * np.pi * j / N\n",
    "    # Generate the vector of times for evaluation\n",
    "    t = np.arange(N) * dt\n",
    "\n",
    "    # Evaluate the exact position, velocity, and energy\n",
    "    x_exact, v_exact = exact(t)\n",
    "    E_exact = x_exact**2 + v_exact**2\n",
    "    \n",
    "    result = {\n",
    "        'exact': {\n",
    "            't': t,\n",
    "            'x': x_exact,\n",
    "            'v': v_exact,\n",
    "            'E': E_exact\n",
    "        },\n",
    "        'approximate': None,\n",
    "        'solver_name': None\n",
    "    }\n",
    "    \n",
    "    if approximate_solver is not None:\n",
    "        # Evaluate the approximate position, velocity, and energy\n",
    "        x_approx, v_approx = approximate_solver(x0, v0, dt, N)\n",
    "        E_approx = x_approx**2 + v_approx**2\n",
    "        result['approximate'] = {\n",
    "            't': t,\n",
    "            'x': x_approx,\n",
    "            'v': v_approx,\n",
    "            'E': E_approx\n",
    "        }\n",
    "        result['solver_name'] = approximate_solver.__name__\n",
    "    \n",
    "    return result"
   ]
  },
  {
   "cell_type": "markdown",
   "metadata": {},
   "source": [
    "Now, let's compute the exact solution with the default parameters and plot it using `plot_solution` from `utilities.py`."
   ]
  },
  {
   "cell_type": "code",
   "execution_count": null,
   "metadata": {},
   "outputs": [],
   "source": [
    "plot_solution(**solve())\n",
    "# Note: you can save the plot made by `plot_solution` by providing the keword argument `plot_filename`, e.g.:\n",
    "#    plot_solution(**solve(), plot_filename=\"exact.pdf\")\n",
    "# will save the plot to a PDF file."
   ]
  },
  {
   "cell_type": "markdown",
   "metadata": {},
   "source": [
    "## Integrators\n",
    "\n",
    "Two simple integration methods for solving ODEs numerically are Euler and Euler + predictor-corrector methods.\n",
    "\n",
    "Given the initial conditions $x_0 = x(t_0)$ and $v_0 = v(t_0)$, the solution of $x(t_n)$ and $v(t_n)$ can be computed iteratively by applying the steps of size $dt$.\n",
    "\n",
    "Euler's method is defined by the steps:\n",
    "$$x(t_{n + 1}) = x(t_n) + v(t_n) dt,$$\n",
    "$$v(t_{n + 1}) = v(t_n) - x(t_n) dt.$$\n",
    "\n",
    "See the function `euler(x0, v0, dt, N)` below for a Python implementation of the algorithm."
   ]
  },
  {
   "cell_type": "code",
   "execution_count": null,
   "metadata": {},
   "outputs": [],
   "source": [
    "def euler(x0: float, v0: float, dt: float, N: int) -> tuple[npt.ArrayLike, npt.ArrayLike]:\n",
    "    \"\"\"Estimate the position and velocity as functions of time `t` using Euler's method\n",
    "    given an initial positon `x0` and initial velocity `v0`.\n",
    "\n",
    "    Args:\n",
    "        x0 (float): Initial position\n",
    "        v0 (float): Initial velocity\n",
    "        dt (float): Time step\n",
    "        N (float): Number of positions and velocities to compute (including the initial\n",
    "            values)\n",
    "\n",
    "    Returns:\n",
    "        tuple[npt.ArrayLike, npt.ArrayLike]: Position and velocity as functions of time.\n",
    "    \"\"\"\n",
    "    # You'll see this trick also in euler_predictor_corrector. We need x[0] = x0 and\n",
    "    # v[0] = v0. We will overwrite x[1:] and v[1:], below, so we don't care what their\n",
    "    # values are. So, we just initialize the vectors to be full of their initial value.\n",
    "    x = np.full(N, x0)  # [x0, x0, ..., x0]\n",
    "    v = np.full(N, v0)  # [v0, v0, ..., v0]\n",
    "    \n",
    "    for i in range(N-1):\n",
    "        x[i+1] = x[i] + dt * v[i]\n",
    "        v[i+1] = v[i] - dt * x[i]\n",
    "    \n",
    "    return (x, v)"
   ]
  },
  {
   "cell_type": "markdown",
   "metadata": {},
   "source": [
    "Now we can use Euler's method to solve the ODE and plot its predictions against the exact solution."
   ]
  },
  {
   "cell_type": "code",
   "execution_count": null,
   "metadata": {},
   "outputs": [],
   "source": [
    "plot_solution(**solve(approximate_solver=euler))"
   ]
  },
  {
   "cell_type": "markdown",
   "metadata": {},
   "source": [
    "For the first few points, Euler's method is doing alright. However, we see that as the time increases further away from the initial conditions, the approximate solution is drifting away from the exact solution.\n",
    "One way to improve this is to add the \"predictor-corrector\" scheme on top of Euler's method."
   ]
  },
  {
   "cell_type": "markdown",
   "metadata": {},
   "source": [
    "The predictor-corrector method adds a correction Euler's method:\n",
    "$$x(t_{n + 1}) = x_\\mathrm{Euler}(t_{n + 1}) + \\frac{v_\\mathrm{Euler}(t_n) + v_\\mathrm{Euler}(t_{n + 1})}{2} dt,$$\n",
    "$$v(t_{n + 1}) = v_\\mathrm{Euler}(t_{n + 1}) - \\frac{x_\\mathrm{Euler}(t_n) + x_\\mathrm{Euler}(t_{n + 1})}{2} dt.$$\n",
    "\n",
    "One can see why this is called \"predictor-corrector\" because the prediction of velocity/position from Euler's method is used to correct the position/velocity prediction of Euler's method!\n",
    "\n",
    "A Python implementation is given below in `euler_predictor_corrector(x0, v0, dt, N)`."
   ]
  },
  {
   "cell_type": "code",
   "execution_count": null,
   "metadata": {},
   "outputs": [],
   "source": [
    "def euler_predictor_corrector(\n",
    "    x0:float,\n",
    "    v0: float,\n",
    "    dt: float,\n",
    "    N: int\n",
    ") -> tuple[npt.ArrayLike, npt.ArrayLike]:\n",
    "    \"\"\"Estimate the position and velocity as functions of time `t` using the Euler\n",
    "    predictor-corrector method given an initial positon `x0` and initial velocity `v0`.\n",
    "\n",
    "    Args:\n",
    "        x0 (float): Initial position\n",
    "        v0 (float): Initial velocity\n",
    "        dt (float): Time step\n",
    "        N (float): Number of positions and velocities to compute (including the initial\n",
    "            values)\n",
    "\n",
    "    Returns:\n",
    "        tuple[npt.ArrayLike, npt.ArrayLike]: Position and velocity as functions of time.\n",
    "    \"\"\"\n",
    "    x = np.full(N, x0)\n",
    "    v = np.full(N, v0)\n",
    "    \n",
    "    for i in range(N - 1):\n",
    "        xp = x[i] + dt * v[i]\n",
    "        vp = v[i] - dt * x[i]\n",
    "        x[i+1] = x[i] + dt * (v[i] + vp)/2\n",
    "        v[i+1] = v[i] - dt * (x[i] + xp)/2 \n",
    "    \n",
    "    return (x, v)"
   ]
  },
  {
   "cell_type": "code",
   "execution_count": null,
   "metadata": {},
   "outputs": [],
   "source": [
    "plot_solution(**solve(approximate_solver=euler_predictor_corrector))"
   ]
  },
  {
   "cell_type": "markdown",
   "metadata": {},
   "source": [
    "The \"predictor-corrector\" adjustment has greatly improved the drift present in the basic Euler's method, great!"
   ]
  },
  {
   "cell_type": "markdown",
   "metadata": {},
   "source": [
    "## Measuring error\n",
    "Now that we have two different integrators that we can use to solve the ODE, let's define some error measures to see how well they perform.\n",
    "\n",
    "Implement the functions `absolute_error`, `drift`, and `rms_error`.\n",
    "\n",
    "- Absolute error is defined as\n",
    "    $$\\max_t \\left| x_\\mathrm{calc}(t) - x_\\mathrm{exact}(t) \\right|$$\n",
    "- Energy drift is defined as the slope of a linear polynomial fit to $E_\\mathrm{calc}(t)$\n",
    "    $$E_\\mathrm{calc}(t) \\approx \\underbrace{a}_{\\mathrm{drift}} t + b$$\n",
    "- RMS error is defined as\n",
    "    $$\\sqrt{\\frac{1}{N-1} \\sum_N{\\left(E_\\mathrm{calc}(t_N) - E_\\mathrm{exact}(t_N)\\right)^2}}$$"
   ]
  },
  {
   "cell_type": "markdown",
   "metadata": {},
   "source": [
    "<div class=\"alert alert-block alert-info\"><b>TODO:</b> Complete the functions `absolute_error`, `energy_drift`, and `rms_error`.</div>"
   ]
  },
  {
   "cell_type": "code",
   "execution_count": null,
   "metadata": {},
   "outputs": [],
   "source": [
    "def absolute_error(\n",
    "    exact: dict[str, npt.ArrayLike],\n",
    "    approximate: dict[str, npt.ArrayLike],\n",
    "    **kwargs\n",
    ") -> float:\n",
    "    # The inputs `exact` and `approximate` are dictionaries:\n",
    "    #    {\n",
    "    #       'x': [...],\n",
    "    #       'v': [...],\n",
    "    #       'E': [...],\n",
    "    #       't': [...] \n",
    "    #    }\n",
    "    # Useful functions: np.max, np.abs\n",
    "    ## YOUR IMPLEMENTATION ##\n",
    "    raise NotImplementedError(\"Implement `absolute_error` and remove this line of code!\")\n",
    "    err = None\n",
    "    ## YOUR IMPLEMENTATION ##\n",
    "    return err"
   ]
  },
  {
   "cell_type": "code",
   "execution_count": null,
   "metadata": {},
   "outputs": [],
   "source": [
    "def energy_drift(\n",
    "    exact: dict[str, npt.ArrayLike],\n",
    "    approximate: dict[str, npt.ArrayLike],\n",
    "    **kwargs\n",
    ") -> float:\n",
    "    # The inputs `exact` and `approximate` are dictionaries:\n",
    "    #    {\n",
    "    #       'x': [...],\n",
    "    #       'v': [...],\n",
    "    #       'E': [...],\n",
    "    #       't': [...] \n",
    "    #    }\n",
    "    # Useful functions: fit_line (in ./utilities.py)\n",
    "    ## YOUR IMPLEMENTATION ##\n",
    "    raise NotImplementedError(\"Implement `energy_drift` and remove this line of code!\")\n",
    "    t = None\n",
    "    E = None\n",
    "    E_line, slope = fit_line(t, E)\n",
    "    drift = None\n",
    "    ## YOUR IMPLEMENTATION ##\n",
    "    return drift"
   ]
  },
  {
   "cell_type": "code",
   "execution_count": null,
   "metadata": {},
   "outputs": [],
   "source": [
    "def rms_error(\n",
    "    exact: dict[str, npt.ArrayLike],\n",
    "    approximate: dict[str, npt.ArrayLike],\n",
    "    **kwargs\n",
    ") -> float:\n",
    "    # The inputs `exact` and `approximate` are dictionaries:\n",
    "    #    {\n",
    "    #       'x': [...],\n",
    "    #       'v': [...],\n",
    "    #       'E': [...],\n",
    "    #       't': [...] \n",
    "    #    }\n",
    "    # Useful functions: np.sqrt, np.sum, np.power, np.size, len, **\n",
    "    ## YOUR IMPLEMENTATION ##\n",
    "    raise NotImplementedError(\"Implement `rms_error` and remove this line of code!\")\n",
    "    err = None\n",
    "    ## YOUR IMPLEMENTATION ##\n",
    "    return err"
   ]
  },
  {
   "cell_type": "markdown",
   "metadata": {},
   "source": [
    "Compute the three error measures with the default parameters to `solve` (except for `approximate_solver`, of course!).\n",
    "    \n",
    "- Using Euler integration, the values should be about `1.009, 0.290,` and `0.2`, respectively"
   ]
  },
  {
   "cell_type": "markdown",
   "metadata": {},
   "source": [
    "<div class=\"alert alert-block alert-info\"><b>TODO:</b> Analyze the errors and the energy drift for Euler and Euler + predictor-corrector integrators.</div>"
   ]
  },
  {
   "cell_type": "code",
   "execution_count": null,
   "metadata": {},
   "outputs": [],
   "source": [
    "solver = euler  # euler, euler_predictor_corrector\n",
    "result = solve(approximate_solver=solver)\n",
    "\n",
    "abs_err = absolute_error(**result)\n",
    "drift = energy_drive(**result)\n",
    "rms_err = rms_error(**result)\n",
    "\n",
    "(abs_err, drift, rms_err)"
   ]
  },
  {
   "cell_type": "markdown",
   "metadata": {},
   "source": [
    "## Improved integrators\n",
    "\n",
    "We can improve the Euler integrator by adding the second order term to the Taylor expansion of the trajectory $\\frac{1}{2}\\left(\\Delta t\\right)^2 f(t)$ (see e.g. equation (3.8) in the \"Documentation: integrators in MD\" on Moodle).\n",
    "\n",
    "An alternative integrator is the (velocity-) Verlet method, which was presented in lecture.\n",
    "\n",
    "Complete the functions below for the 2nd-order Euler method (`euler2nd`), Verlet integration (`verlet`), and optionally for velocity-Verlet (`velocity_verlet`)."
   ]
  },
  {
   "cell_type": "markdown",
   "metadata": {},
   "source": [
    "<div class=\"alert alert-block alert-info\"><b>TODO:</b> Complete the functions `euler2nd`, `verlet`, and (OPTIONAL) `velocity_verlet`.</div>"
   ]
  },
  {
   "cell_type": "code",
   "execution_count": null,
   "metadata": {},
   "outputs": [],
   "source": [
    "def euler2nd(\n",
    "    x0: float,\n",
    "    v0: float,\n",
    "    dt: float,\n",
    "    N: int\n",
    ") -> tuple[npt.ArrayLike, npt.ArrayLike]:\n",
    "    \"\"\"Estimate the position and velocity as functions of time `t` using the second-order\n",
    "    Euler's method given an initial positon `x0` and initial velocity `v0`.\n",
    "\n",
    "    Args:\n",
    "        x0 (float): Initial position\n",
    "        v0 (float): Initial velocity\n",
    "        dt (float): Time step\n",
    "        N (float): Number of positions and velocities to compute (including the initial\n",
    "            values)\n",
    "\n",
    "    Returns:\n",
    "        tuple[npt.ArrayLike, npt.ArrayLike]: Position and velocity as functions of time.\n",
    "    \"\"\"\n",
    "    ## YOUR IMPLEMENTATION ##\n",
    "    raise NotImplementedError(\"Implement `euler2nd` and delete this line of code.\")\n",
    "    x = np.zeros(N)\n",
    "    v = np.zeros(N)\n",
    "    # ...\n",
    "    ## YOUR IMPLEMENTATION ##    \n",
    "    return (x, v)"
   ]
  },
  {
   "cell_type": "code",
   "execution_count": null,
   "metadata": {},
   "outputs": [],
   "source": [
    "def verlet(\n",
    "    x0: float,\n",
    "    v0: float,\n",
    "    dt: float,\n",
    "    N: int\n",
    ") -> tuple[npt.ArrayLike, npt.ArrayLike]:\n",
    "    \"\"\"Estimate the position and velocity as functions of time `t` using the Verlet\n",
    "    integration method given an initial positon `x0` and initial velocity `v0`.\n",
    "\n",
    "    Args:\n",
    "        x0 (float): Initial position\n",
    "        v0 (float): Initial velocity\n",
    "        dt (float): Time step\n",
    "        N (float): Number of positions and velocities to compute (including the initial\n",
    "            values)\n",
    "\n",
    "    Returns:\n",
    "        tuple[npt.ArrayLike, npt.ArrayLike]: Position and velocity as functions of time.\n",
    "    \"\"\"\n",
    "    ## YOUR IMPLEMENTATION ##\n",
    "    raise NotImplementedError(\"Implement `verlet` and delete this line of code.\")\n",
    "    x = np.zeros(N)\n",
    "    v = np.zeros(N)\n",
    "    # ...\n",
    "    ## YOUR IMPLEMENTATION ##\n",
    "    return (x, v)"
   ]
  },
  {
   "cell_type": "code",
   "execution_count": null,
   "metadata": {},
   "outputs": [],
   "source": [
    "## OPTIONAL\n",
    "def velocity_verlet(\n",
    "    x0: float,\n",
    "    v0: float,\n",
    "    dt: float,\n",
    "    N: int\n",
    ") -> tuple[npt.ArrayLike, npt.ArrayLike]:\n",
    "    \"\"\"Estimate the position and velocity as functions of time `t` using the velocity Verlet\n",
    "    integration method given an initial positon `x0` and initial velocity `v0`.\n",
    "\n",
    "    Args:\n",
    "        x0 (float): Initial position\n",
    "        v0 (float): Initial velocity\n",
    "        dt (float): Time step\n",
    "        N (float): Number of positions and velocities to compute (including the initial\n",
    "            values)\n",
    "\n",
    "    Returns:\n",
    "        tuple[npt.ArrayLike, npt.ArrayLike]: Position and velocity as functions of time.\n",
    "    \"\"\"\n",
    "    ## YOUR IMPLEMENTATION ##\n",
    "    raise NotImplementedError(\"Implement `velocity_verlet` and delete this line of code.\")\n",
    "    x = np.zeros(N)\n",
    "    v = np.zeros(N)\n",
    "    # ...\n",
    "    ## YOUR IMPLEMENTATION ##\n",
    "    return (x, v)"
   ]
  },
  {
   "cell_type": "markdown",
   "metadata": {},
   "source": [
    "## Analyze and compare the integrators\n",
    "\n",
    "Now we have a small family of integrators and some error measures to evaluate them.\n",
    "\n",
    "You should\n",
    "1. Observe the behavior of the integrators which you implemented above (2nd-order Euler, Verlet, optionally velocity-Verlet).\n",
    "2. Compare the error measures among the different integrators.\n",
    "3. Plot the error measures for different integrators as a function of $\\Delta t$.\n",
    "\n",
    "You should find that Euler is bad, Euler + predictor-corrector has a very small noise, and Verlet wins for absolute error and energy drift."
   ]
  },
  {
   "cell_type": "markdown",
   "metadata": {},
   "source": [
    "<div class=\"alert alert-block alert-info\"><b>TODO:</b> Compare and analyze the behavior of the different integrators (see above).</div>"
   ]
  },
  {
   "cell_type": "code",
   "execution_count": null,
   "metadata": {},
   "outputs": [],
   "source": [
    "## YOUR ANALYSIS ##"
   ]
  },
  {
   "cell_type": "markdown",
   "metadata": {},
   "source": [
    "## Optional exercises"
   ]
  },
  {
   "cell_type": "markdown",
   "metadata": {},
   "source": [
    "### Frequency as a function of $\\Delta t$\n",
    "\n",
    "For a longer simulation, find the frequency of the oscillator as a function of $\\Delta t$."
   ]
  },
  {
   "cell_type": "code",
   "execution_count": null,
   "metadata": {},
   "outputs": [],
   "source": [
    "## YOUR SOLUTION ##"
   ]
  },
  {
   "cell_type": "markdown",
   "metadata": {},
   "source": [
    "### Damping\n",
    "\n",
    "Now, consider damping in the 1-dimensional harmonic oscillator\n",
    "\n",
    "$$\n",
    "\\ddot{x} + \\gamma\\dot{x} + \\omega_0^2 x = 0\n",
    "$$\n",
    "\n",
    "where $\\gamma$ is the damping coefficient, and $\\omega_0$ is the undamped angular frequency of the oscillator. Implement damping in your code using the Euler, predictor-corrector, and Verlet algorithms (take the same initial conditions as that of the earlier problem). Vary the ratio $\\frac{\\gamma}{\\omega_0}$ and observe the evolution of the damping behavior."
   ]
  },
  {
   "cell_type": "code",
   "execution_count": null,
   "metadata": {},
   "outputs": [],
   "source": [
    "## YOUR SOLUTION ##"
   ]
  },
  {
   "cell_type": "code",
   "execution_count": null,
   "metadata": {},
   "outputs": [],
   "source": []
  }
 ],
 "metadata": {
  "kernelspec": {
   "display_name": "phys-403",
   "language": "python",
   "name": "python3"
  },
  "language_info": {
   "codemirror_mode": {
    "name": "ipython",
    "version": 3
   },
   "file_extension": ".py",
   "mimetype": "text/x-python",
   "name": "python",
   "nbconvert_exporter": "python",
   "pygments_lexer": "ipython3",
   "version": "3.11.4"
  }
 },
 "nbformat": 4,
 "nbformat_minor": 2
}
