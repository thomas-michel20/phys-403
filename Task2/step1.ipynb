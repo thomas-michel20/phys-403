{
 "cells": [
  {
   "cell_type": "markdown",
   "metadata": {},
   "source": [
    "# Task II: NVE molecular dynamics simulations (Part I, Week03)"
   ]
  },
  {
   "cell_type": "markdown",
   "metadata": {},
   "source": [
    "## Startup"
   ]
  },
  {
   "cell_type": "markdown",
   "metadata": {},
   "source": [
    "Set up the kernel\n",
    "\n",
    "<center><img src=\"figures/fig1.png\" width=1100 height=240 /></center>\n",
    "\n",
    "<center><img src=\"figures/fig2.png\" width=350 height=240 /></center>\n",
    "\n",
    "run the following cells using `shift` + `enter`"
   ]
  },
  {
   "cell_type": "code",
   "execution_count": null,
   "metadata": {},
   "outputs": [],
   "source": [
    "import matplotlib.pyplot as plt\n",
    "import numpy as np\n",
    "import numpy.typing as npt\n",
    "import typing as ty\n",
    "from utilities import plot_velocity, plot_data\n",
    "from MD import *"
   ]
  },
  {
   "cell_type": "markdown",
   "metadata": {},
   "source": [
    "# Goals\n",
    "The obejective of this exercise is \n",
    "\n",
    "- Step 1.1 Generate the starting atomic positions, the starting velocities\n",
    "- Step 1.2 Run the MD code\n",
    "- Step 1.3 Change the system temperature to the desired value \n",
    "- Step 1.4 Equilibrate the sample\n",
    "- Step 1.5 (Optional) check the conservation of energy as a function of the integration step $\\Delta t$;\n",
    "study the dependency of the ﬂuctuations on the system size (i.e., as a function of N )\n",
    "\n",
    "Reference:\n",
    "1. Rahman, A. (1964). Correlations in the motion of atoms in liquid argon. Physical review, 136(2A), A405"
   ]
  },
  {
   "cell_type": "markdown",
   "metadata": {},
   "source": [
    "## Step 1.1 Running `crystal()`"
   ]
  },
  {
   "cell_type": "markdown",
   "metadata": {},
   "source": [
    "First of all, a conﬁguration has to be generated to start from. \n",
    "\n",
    "The function `crystal()` is used to arrange atoms in a crystalline fcc structure.\n",
    "\n",
    "The function `crystal()` takes two arguments: \n",
    "1. the number of units fcc cells along each direction `Ncells`.\n",
    "2. the lattice spacing `lat_par`.\n",
    "\n",
    "The number of unit fcc cells (containing 4 atoms each) to stack along the three directions: choose them in order to get a cubic box with same number of particles (`N = 864`) used in [1], hence select `6` unit cells along each axis so that N will be equal to 4 × (6 × 6 × 6) = 864 (in general you should not put less unit cells than what suggested to satisfy the minimum image criterion, but `6` cells is more than enough in this example). This number of cells, combined with the lattice parameter chosen below, gives a box size approximately equal to that in [1] (L = $10.229$ in L.J. units, please see the notes), so that the densities will be the same too. The lattice spacing of the fcc crystal is the equilibrium lattice spacing of the LJ potential is $1.5496$, but here we choose a value, a = $1.7048$, that corresponds to the density studied by Rahman [1], i.e. $1.374$ $g· cm^{−3}$ for Ar (with atomic mass approx. $M = 6.69\\times10^{−23}$ $g$).\n",
    "\n",
    "The function `crystal()` returns two arrays: coordinates and velocities, the latter assigned randomly according to Gaussian distribution."
   ]
  },
  {
   "cell_type": "markdown",
   "metadata": {},
   "source": [
    "<div class=\"alert alert-block alert-info\"><b>TODO:</b> Fill the `Ncells` and `lat_par` in the following code </div>"
   ]
  },
  {
   "cell_type": "code",
   "execution_count": null,
   "metadata": {},
   "outputs": [],
   "source": [
    "# Step 1.1 \n",
    "# Create a crystalline fcc structure\n",
    "#############################################################\n",
    "\n",
    "Ncells =            # Number of unit cells along each axis\n",
    "lat_par =           # Lattice parameter\n",
    "L = lat_par*Ncells  # Size of the simulation box\n",
    "N = 4*Ncells**3     # Number of atoms in the simulation box\n",
    "\n",
    "# Generate fcc structure\n",
    "pos, vel = crystal(Ncells, lat_par)\n",
    "\n",
    "# Write positions and velocities into a file\n",
    "dump_pos_vel('sample10.dat', pos, vel, N, L)"
   ]
  },
  {
   "cell_type": "markdown",
   "metadata": {},
   "source": [
    "Nice, now you have sucessufully generated a initial structure for launching MD simulations. Let's plot the distribution of velocities, it is supposed to be approximately a gaussian distribution"
   ]
  },
  {
   "cell_type": "code",
   "execution_count": null,
   "metadata": {},
   "outputs": [],
   "source": [
    "plot_velocity(vel)"
   ]
  },
  {
   "cell_type": "markdown",
   "metadata": {},
   "source": [
    "## Step 1.2  Running the MD code"
   ]
  },
  {
   "cell_type": "markdown",
   "metadata": {},
   "source": [
    "In order to run the MD code, you need to call `run_NVE()` which takes six compulsory\n",
    "arguments: \n",
    "- `coordinates`\n",
    "- `velocities`\n",
    "- `box size`\n",
    "- `No. of steps` \n",
    "- `No. of atoms` \n",
    "- `integration step`"
   ]
  },
  {
   "cell_type": "markdown",
   "metadata": {},
   "source": [
    "The following code will perform a constant energy calculation (NVE ensemble)\n",
    "with `200` steps (using a time step of `0.003`), continuing from `sample10.dat` previously\n",
    "generated (or created by crystal), and writing on `sample11.dat` at the end.\n",
    "\n",
    "All the MD results are stored in `output`. The accessible keys are ['nsteps', 'pos', 'vel', 'EnPot', 'EnKin']"
   ]
  },
  {
   "cell_type": "markdown",
   "metadata": {},
   "source": [
    "<div class=\"alert alert-block alert-info\"><b>TODO:</b> Fill the `nsteps` and `dt` in the following code </div>"
   ]
  },
  {
   "cell_type": "code",
   "execution_count": null,
   "metadata": {},
   "outputs": [],
   "source": [
    "# Step 1.2 \n",
    "# Run a test simulation \n",
    "#############################################################\n",
    "\n",
    "nsteps =        # Number of steps\n",
    "dt =            # Integration step\n",
    "\n",
    "# Read crystal shape, positions and velocities from a file\n",
    "N, L, pos, vel = read_pos_vel('sample10.dat')\n",
    "\n",
    "# Perform simulation and collect the output into a dictionary\n",
    "output = run_NVE(pos, vel, L, nsteps, N, dt)\n",
    "\n",
    "# Write positions and velocities into a file\n",
    "dump_pos_vel('sample11.dat', output['pos'], output['vel'], N, L)"
   ]
  },
  {
   "cell_type": "markdown",
   "metadata": {},
   "source": [
    "## Step 1.3 Compute velocities and Change to the desired temperature"
   ]
  },
  {
   "cell_type": "markdown",
   "metadata": {},
   "source": [
    "In order to bring the sample close to the desired temperature (through constant velocity\n",
    "rescaling), we ﬁrst need to compute the velocities for the atomic conﬁguration generated\n",
    "with crystal. A small number of time steps (here, `200`) is sufﬁcient for this purpose."
   ]
  },
  {
   "cell_type": "markdown",
   "metadata": {},
   "source": [
    "For this step, we will adopt an integration time step corresponding approximately to that\n",
    "used in [1] for liquid Ar ($10^{−14}$ sec., see notes for the conversion to L.J. units, approximately `0.0046`)."
   ]
  },
  {
   "cell_type": "markdown",
   "metadata": {},
   "source": [
    "<div class=\"alert alert-block alert-info\"><b>TODO:</b> Fill the `nsteps` and `dt` in the following code </div>"
   ]
  },
  {
   "cell_type": "code",
   "execution_count": null,
   "metadata": {},
   "outputs": [],
   "source": [
    "# Step 1.3\n",
    "# Compute velocities\n",
    "#############################################################\n",
    "\n",
    "nsteps = \n",
    "dt = \n",
    "\n",
    "# Perform simulation starting from the output of a previous run\n",
    "output = run_NVE(output['pos'], output['vel'], L, nsteps, N, dt)"
   ]
  },
  {
   "cell_type": "markdown",
   "metadata": {},
   "source": [
    "As an option, you can check how your results depend on the time step: the value\n",
    "needed to ensure conservation of energy to a good extent depends on the temperature and on\n",
    "the particle density."
   ]
  },
  {
   "cell_type": "markdown",
   "metadata": {},
   "source": [
    "Now we are ready to apply the constant velocity rescaling to our sample: at each time step\n",
    "the velocities will be scaled in order to bring the instantaneous temperature of the system to\n",
    "the desired value (`T = 94.4K`, which corresponds to about 0.7867 in L.J. units for Ar)"
   ]
  },
  {
   "cell_type": "markdown",
   "metadata": {},
   "source": [
    "`T` is an optional argument of the function run_NVE, which default value is None. When\n",
    "`T` is greater than or equal to 0, the code will run a run at constant temperature. Notice that\n",
    "is NOT a constant energy dynamics, hence we are not sampling the NVE ensemble during\n",
    "this run (nor the NVT ensemble, see Task3 for NVT molecular dynamics). Since we are\n",
    "interested in the equilibrium properties (in the thermodynamics sense) of the system, no data\n",
    "should be collected in this kind of run, however you can see how the temperature changes\n",
    "during the run by plotting it against the step"
   ]
  },
  {
   "cell_type": "markdown",
   "metadata": {},
   "source": [
    "<div class=\"alert alert-block alert-info\"><b>TODO:</b> Fill the `T` in the following code </div>"
   ]
  },
  {
   "cell_type": "code",
   "execution_count": null,
   "metadata": {},
   "outputs": [],
   "source": [
    "# Step 1.4\n",
    "# Change T\n",
    "#############################################################\n",
    "\n",
    "nsteps = 200\n",
    "dt = 0.0046\n",
    "T =           # requested temperature\n",
    "\n",
    "# Change T \n",
    "output = run_NVE(output['pos'], output['vel'], L, nsteps, N, dt, T)\n",
    "\n",
    "results = {\n",
    "    \"nsteps\": output[\"nsteps\"],\n",
    "    \"Tempature\": output[\"EnKin\"]*2/3,\n",
    "\n",
    "}\n",
    "\n",
    "# Plot temperature vs step\n",
    "plot_data(results=results)\n",
    "\n",
    "results = {\n",
    "    \"nsteps\": output[\"nsteps\"],\n",
    "    \"EnTot\": output[\"EnPot\"] + output[\"EnKin\"],\n",
    "\n",
    "}\n",
    "plot_data(results=results)"
   ]
  },
  {
   "cell_type": "markdown",
   "metadata": {},
   "source": [
    "## Step 1.4 Equilibrate"
   ]
  },
  {
   "cell_type": "markdown",
   "metadata": {},
   "source": [
    "Before starting to collect data, we need to equilibrate the sample with a short run of regular\n",
    "NVE dynamics."
   ]
  },
  {
   "cell_type": "code",
   "execution_count": null,
   "metadata": {},
   "outputs": [],
   "source": [
    "# Equilibrate\n",
    "#############################################################\n",
    "\n",
    "nsteps = 800\n",
    "dt = 0.0046\n",
    "\n",
    "# Equilibrate\n",
    "output = run_NVE(output['pos'], output['vel'], L, nsteps, N, dt)\n",
    "\n",
    "\n",
    "# Write positions and velocities into a file\n",
    "dump_pos_vel('sampleT94.4.dat', output['pos'], output['vel'], N, L)\n",
    "\n",
    "\n",
    "results = {\n",
    "    \"nsteps\": output[\"nsteps\"],\n",
    "    \"EnTot\": output[\"EnKin\"]+output[\"EnPot\"],\n",
    "}\n",
    "\n",
    "# Plot total energy vs step\n",
    "plot_data(results)\n"
   ]
  },
  {
   "cell_type": "markdown",
   "metadata": {},
   "source": [
    "By plotting the total energy, as a function of steps you can check that `Entot` is actually conserved (to a good approximation) in this kind of dynamics (and compare with what happens\n",
    "to Etot in the constant velocity rescaling run). You can verify that the conservation of energy becomes more strict as the time step `dt` is reduced. In general, the other quantities\n",
    "display much larger fluctuations, instead. Notice that the average temperature might not be\n",
    "equal or not even close to the target temperature, since in the NVE dynamics is not possible to\n",
    "fix this variable (sometimes this makes also difficult to compare different MD simulations)."
   ]
  },
  {
   "cell_type": "markdown",
   "metadata": {},
   "source": [
    "## [Optional] Step 1.5"
   ]
  },
  {
   "cell_type": "markdown",
   "metadata": {},
   "source": [
    "<div class=\"alert alert-block alert-info\"><b>TODO:</b> check the conservation of energy as a function of the integration step dt </div>"
   ]
  },
  {
   "cell_type": "code",
   "execution_count": null,
   "metadata": {},
   "outputs": [],
   "source": [
    "# Your simulation here"
   ]
  },
  {
   "cell_type": "markdown",
   "metadata": {},
   "source": [
    "<div class=\"alert alert-block alert-info\"><b>TODO:</b> study the dependency of the ﬂuctuations on the system size (i.e., as a function of N ) </div>"
   ]
  },
  {
   "cell_type": "code",
   "execution_count": null,
   "metadata": {},
   "outputs": [],
   "source": [
    "# Your simulation here"
   ]
  }
 ],
 "metadata": {
  "kernelspec": {
   "display_name": "phys",
   "language": "python",
   "name": "python3"
  },
  "language_info": {
   "codemirror_mode": {
    "name": "ipython",
    "version": 3
   },
   "file_extension": ".py",
   "mimetype": "text/x-python",
   "name": "python",
   "nbconvert_exporter": "python",
   "pygments_lexer": "ipython3",
   "version": "3.8.18"
  }
 },
 "nbformat": 4,
 "nbformat_minor": 2
}
