{
 "cells": [
  {
   "cell_type": "markdown",
   "metadata": {},
   "source": [
    "# Task II: NVE molecular dynamics simulations (Part II, Week04)"
   ]
  },
  {
   "cell_type": "markdown",
   "metadata": {},
   "source": [
    "Set up the kernel\n",
    "\n",
    "<center><img src=\"figures/fig1.png\" width=1100 height=240 /></center>\n",
    "\n",
    "<center><img src=\"figures/fig2.png\" width=350 height=240 /></center>\n",
    "\n",
    "run the following cells using `shift` + `enter`"
   ]
  },
  {
   "cell_type": "code",
   "execution_count": null,
   "metadata": {},
   "outputs": [],
   "source": [
    "import matplotlib.pyplot as plt\n",
    "import numpy as np\n",
    "import numpy.typing as npt\n",
    "import typing as ty\n",
    "from utilities import plot_data2\n",
    "from MD import *"
   ]
  },
  {
   "cell_type": "markdown",
   "metadata": {},
   "source": [
    "# Goals\n",
    "The obejective of this exercise is Sample static properties: \n",
    "- Step 2.1 Compare the position of the peaks with those reported in Rahman’s paper.\n",
    "- Step 2.2 Study the behaviour of these two quantities as a function of the equilibration temperature and of the density.\n",
    "- Step 2.3 extend the maximum radius allowed for g(r)\n",
    "- Step 2.4 change r_cutoff and check how this approximation affects the structural properties."
   ]
  },
  {
   "cell_type": "markdown",
   "metadata": {},
   "source": [
    "## Compute g(r) and S(k) (through F.T. and direct Mtehod)"
   ]
  },
  {
   "cell_type": "markdown",
   "metadata": {},
   "source": [
    "From the previously equilibrated atomic sample (which should be now stored in sampleT94.4.dat) you can start a MD run in which you do a sampling of some physical properties. We will ﬁrst focus on some static properties, namely the radial pair correlation function g(r) and the structure factor S(k). The latter can be obtained in two modes, either directly by sampling the Fourier transform (FT) of the number density, or, in the case of an isotropic system, as the FT of the pair correlation function (see notes and Allen-Tildesly, ch.\n",
    "2.6). In this subtask you will proceed through the second way. The code can be used to perform a MD run of 2000 steps and evaluate the g(r) at every step.\n",
    "\n",
    "The quantity is then averaged over all these samplings.\n",
    "\n",
    "The code for g(r) and S(k) (through FT of g(r)) sampling is in the following"
   ]
  },
  {
   "cell_type": "code",
   "execution_count": null,
   "metadata": {},
   "outputs": [],
   "source": [
    "nsteps = 2000\n",
    "dt = 0.0046\n",
    "N, L, pos, vel = read_pos_vel('sampleT94.4.dat')\n",
    "\n",
    "# Run MD simulation\n",
    "output = run_NVE(pos, vel, L, nsteps, N, dt)\n",
    "\n",
    "\n",
    "results = {\n",
    "    \"r\": output['gofr']['r'],\n",
    "    \"g(r)\": output['gofr']['g']\n",
    "}\n",
    "# Plot g(r)\n",
    "plot_data2(results=results, xlabel='r')\n",
    "\n",
    "# Plot S(k)\n",
    "results = {\n",
    "    \"k\": output['sofk']['k'],\n",
    "    \"s(k)\": output['sofk']['s']\n",
    "}\n",
    "\n",
    "plot_data2(results=results, xlabel='k')\n",
    "# Write g(k) into a file\n",
    "np.savetxt('gofr.dat',np.column_stack((output['gofr']['r'],output['gofr']['g'])))\n",
    "\n",
    "# Write S(k) into a file\n",
    "np.savetxt('sofk.dat',np.column_stack((output['sofk']['k'],output['sofk']['s'])))"
   ]
  },
  {
   "cell_type": "markdown",
   "metadata": {},
   "source": [
    "The default program uses the Fourier transformation method to compute the structural factor.\n",
    "For the report, you are asked to compare S(k) computed by Fourier transformation and direct\n",
    "sampling. The following code shows how to change the method to direct sampling"
   ]
  },
  {
   "cell_type": "code",
   "execution_count": null,
   "metadata": {},
   "outputs": [],
   "source": [
    "###################\n",
    "# Direct Sampling #\n",
    "###################\n",
    "\n",
    "N, L, pos, vel = read_pos_vel('sampleT94.4.dat')\n",
    "\n",
    "# Run MD simulation with direct sampling on\n",
    "output = run_NVE(pos, vel, L, nsteps, N, dt,direct_sofk=True)\n",
    "# Plot S(k) direct\n",
    "results = {\n",
    "      \"k\": output['sofk_direct']['qvec'],\n",
    "      \"s(k)\": output['sofk_direct']['sofk']\n",
    "   }\n",
    "plot_data2(results=results, xlabel='k')\n",
    "# Write S(k) direct into a file\n",
    "np.savetxt('sofk-direct.dat',np.column_stack((output['sofk_direct']['qvec'\n",
    "   ],output['sofk_direct']['sofk'])))"
   ]
  },
  {
   "cell_type": "markdown",
   "metadata": {},
   "source": [
    "## Step 2.1"
   ]
  },
  {
   "cell_type": "markdown",
   "metadata": {},
   "source": [
    "<div class=\"alert alert-block alert-info\"><b>TODO:</b> Measure position of the peaks (both in g(r) and in S(k)) and compare to those reported\n",
    "by Rahman). Try to explain the other features you see. </div>"
   ]
  },
  {
   "cell_type": "code",
   "execution_count": null,
   "metadata": {},
   "outputs": [],
   "source": [
    "# your code here"
   ]
  },
  {
   "cell_type": "markdown",
   "metadata": {},
   "source": [
    "## Step 2.2"
   ]
  },
  {
   "cell_type": "markdown",
   "metadata": {},
   "source": [
    "<div class=\"alert alert-block alert-info\"><b>TODO:</b> Study the behaviour of these two quantities as a function of the equilibration temperature\n",
    "and of the density. For the former, you need to go through the steps in step1.ipynb in order\n",
    "to bring the system close to the new temperature and equilibrate. For the latter you have\n",
    "to generate a new sample with cyrstal() </div>\n",
    "\n"
   ]
  },
  {
   "cell_type": "code",
   "execution_count": null,
   "metadata": {},
   "outputs": [],
   "source": [
    "# your simulations here\n",
    "# you can copy the codes in step1.ipynb"
   ]
  },
  {
   "cell_type": "markdown",
   "metadata": {},
   "source": [
    "## Step 2.3"
   ]
  },
  {
   "cell_type": "markdown",
   "metadata": {},
   "source": [
    "<div class=\"alert alert-block alert-info\"><b>TODO:</b> You may try a simulation with a larger number of atoms in order to extend the maximum\n",
    "radius allowed for g(r), which is here limited to half of the box size (see next lectures for\n",
    "other methods to extend this limit). Be aware that when the number of atoms gets larger\n",
    "than a few thousands the code will become quite slow (due to the O(N 2)) operations. In\n",
    "order to overcome this you may have to use another version of the code which uses Verlet\n",
    "neighbor lists (at least for the dynamical evolution part). </div>"
   ]
  },
  {
   "cell_type": "code",
   "execution_count": null,
   "metadata": {},
   "outputs": [],
   "source": [
    "# your simulations here"
   ]
  },
  {
   "cell_type": "markdown",
   "metadata": {},
   "source": [
    "# Step 2.4"
   ]
  },
  {
   "cell_type": "markdown",
   "metadata": {},
   "source": [
    "<div class=\"alert alert-block alert-info\"><b>TODO:</b> When dealing with short range interactions (such as the LJ pair potential), the potential\n",
    "is approximated by truncating and setting it to a ﬁxed value for interparticle distances\n",
    "beyond a certain cutoff radius (called r_cutoff in the code). By changing r_cutoff\n",
    "from its default value (2.5), you can check if and how this approximation affects the\n",
    "structural properties. </div>\n"
   ]
  },
  {
   "cell_type": "code",
   "execution_count": null,
   "metadata": {},
   "outputs": [],
   "source": [
    "# your simulations here\n",
    "# full arguments of run_NVE funcition\n",
    "# run_NVE(pos_in, vel_in, L, nsteps, N, dt=0.0046, T=None, Nbins=300, r_cutoff=2.5, direct_sofk=False)"
   ]
  }
 ],
 "metadata": {
  "kernelspec": {
   "display_name": "phys",
   "language": "python",
   "name": "python3"
  },
  "language_info": {
   "codemirror_mode": {
    "name": "ipython",
    "version": 3
   },
   "file_extension": ".py",
   "mimetype": "text/x-python",
   "name": "python",
   "nbconvert_exporter": "python",
   "pygments_lexer": "ipython3",
   "version": "3.8.18"
  }
 },
 "nbformat": 4,
 "nbformat_minor": 2
}
