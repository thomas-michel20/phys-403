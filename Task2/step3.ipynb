{
 "cells": [
  {
   "cell_type": "markdown",
   "metadata": {},
   "source": [
    "# Task II: NVE molecular dynamics simulations (Part III, Week05)"
   ]
  },
  {
   "cell_type": "markdown",
   "metadata": {},
   "source": [
    "Set up the kernel\n",
    "\n",
    "<center><img src=\"figures/fig1.png\" width=1100 height=240 /></center>\n",
    "\n",
    "<center><img src=\"figures/fig2.png\" width=350 height=240 /></center>\n",
    "\n",
    "run the following cells using `shift` + `enter`"
   ]
  },
  {
   "cell_type": "code",
   "execution_count": null,
   "metadata": {},
   "outputs": [],
   "source": [
    "import matplotlib.pyplot as plt\n",
    "import numpy as np\n",
    "import numpy.typing as npt\n",
    "import typing as ty\n",
    "from scipy.stats import linregress\n",
    "from utilities import plot_data2\n",
    "from MD import *"
   ]
  },
  {
   "cell_type": "markdown",
   "metadata": {},
   "source": [
    "# Goals\n",
    "The obejective of this exercise is estimating the diffusion coefﬁcient, D, using two different\n",
    "methods, namely: \n",
    "- Step 3.1 Einstein’s relation\n",
    "- Step 3.2 The time integral of the velocity autocorrelation function\n",
    "- Step 3.3 (Optional) Repeat the same steps for a system at a different temperature and/or density"
   ]
  },
  {
   "cell_type": "markdown",
   "metadata": {},
   "source": [
    "## Compute MSD and VACF"
   ]
  },
  {
   "cell_type": "markdown",
   "metadata": {},
   "source": [
    "Now we move to the study of a dynamical quantity which is easily accessible through MD\n",
    "simulations: the diffusion coefﬁcient. As you have learned during the class, this quantity\n",
    "can be computed from the mean square displacement (MSD) of the atomic positions through\n",
    "Einstein’s relation, or from the integral of the velocity autocorrelation function (VACF)"
   ]
  },
  {
   "cell_type": "markdown",
   "metadata": {},
   "source": [
    "For Einstein’s relation, it\n",
    "$$MSD(t) = C + 6Dt$$\n",
    "involves the sampling of the mean square displacement (MSD) and a ﬁtting procedure giving C and D"
   ]
  },
  {
   "cell_type": "markdown",
   "metadata": {},
   "source": [
    "## Step 3.1 and 3.2 combined "
   ]
  },
  {
   "cell_type": "code",
   "execution_count": null,
   "metadata": {},
   "outputs": [],
   "source": [
    "nsteps = 450\n",
    "dt = 0.002\n",
    "Nruns = 12\n",
    "cut = 200\n",
    "\n",
    "# Step up an array for time axis\n",
    "t = np.linspace(1,nsteps,nsteps)*dt\n",
    "\n",
    "# Empty variable for output\n",
    "msd_mean=np.zeros(nsteps)\n",
    "vacf_mean=np.zeros(nsteps)\n",
    "D_msd=[]\n",
    "D_vacf=[]\n",
    "\n",
    "# Read equilibrated structure from a file\n",
    "N, L, pos, vel = read_pos_vel('sampleT94.4.dat')\n",
    "output = {'pos':pos, 'vel': vel}\n",
    "\n",
    "for i in range(Nruns):\n",
    "\n",
    "    # Run MD simulation\n",
    "    output = run_NVE(output['pos'], output['vel'], L, nsteps, N, dt)\n",
    "    msd_mean += output['msd']/Nruns\n",
    "    vacf_mean += output['vacf']/Nruns\n",
    "\n",
    "    # MSD\n",
    "    slope, intercept, r, p, se = linregress(t[cut:],output['msd'][cut:])\n",
    "    D_msd.append(slope/6*3.4E-10**2*4.6286E+11*1E+4)\n",
    "\n",
    "    # VACF\n",
    "    D_vacf.append(sum(output['vacf']*dt*3.4**2*4.6286*10**-5))\n",
    "\n",
    "    # Write MSD and VACF into a file\n",
    "    np.savetxt('sample.dat%i.samp'%i, np.column_stack((t, output['msd'] ,output['vacf'])))\n",
    "\n",
    "\n",
    "# Plot averaged MSD\n",
    "plt.plot(t,msd_mean)\n",
    "slope, intercept, r, p, se = linregress(t[cut:],msd_mean[cut:])\n",
    "plt.plot(t,slope*t+intercept, color='red')\n",
    "plt.show()\n",
    "\n",
    "# Plot averaged VACF\n",
    "plt.plot(t,vacf_mean)\n",
    "plt.show()\n",
    "\n",
    "# Write diffusion coefficients into a file\n",
    "np.savetxt('Dcoeff.dat', np.column_stack((D_msd, D_vacf)))\n"
   ]
  },
  {
   "cell_type": "markdown",
   "metadata": {},
   "source": [
    "## Step 3.3 (Optional)"
   ]
  },
  {
   "cell_type": "markdown",
   "metadata": {},
   "source": [
    "<div class=\"alert alert-block alert-info\"><b>TODO:</b> Repeat the same steps for a system at a different temperature and/or density\n",
    "(remember that the accuracy of the time integration may depend on these parameters) and\n",
    "compare the static (step2.ipynb) and dynamic properties. </div>"
   ]
  },
  {
   "cell_type": "code",
   "execution_count": null,
   "metadata": {},
   "outputs": [],
   "source": [
    "# your simulations here\n",
    "# you can copy the codes in step1.ipynb"
   ]
  },
  {
   "cell_type": "markdown",
   "metadata": {},
   "source": [
    "## Important remarks\n",
    "1. ensemble average needs either to average on different time origins in the same run (not\n",
    "implemented) or to average (at same times) the quantity obtained as a function of time in\n",
    "several different runs (of same length). Smaller systems (small N) are subject to larger\n",
    "statistical ﬂuctuations, therefore the deviation from the ensemble average may be quite\n",
    "large if a single realization is used to estimate the diffusion coefﬁcient.\n",
    "2. since we are sampling a dynamical quantity, the accuracy in the description of the particle\n",
    "trajectories plays more important role here. Be careful on the choice of dt; the value used\n",
    "so far may not be sufﬁciently small.\n",
    "\n",
    "Step3.ipynb adopts the second method for computing the ensemble average of the dynamical\n",
    "quantities, i.e. the MSD and VACF are calculated as an average over a number of simulations\n",
    "deﬁned by Nruns."
   ]
  }
 ],
 "metadata": {
  "kernelspec": {
   "display_name": "phys",
   "language": "python",
   "name": "python3"
  },
  "language_info": {
   "codemirror_mode": {
    "name": "ipython",
    "version": 3
   },
   "file_extension": ".py",
   "mimetype": "text/x-python",
   "name": "python",
   "nbconvert_exporter": "python",
   "pygments_lexer": "ipython3",
   "version": "3.8.18"
  }
 },
 "nbformat": 4,
 "nbformat_minor": 2
}
