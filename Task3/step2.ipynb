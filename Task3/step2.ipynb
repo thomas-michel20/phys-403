{
 "cells": [
  {
   "cell_type": "markdown",
   "id": "b3dadfadcee062cd",
   "metadata": {
    "collapsed": false
   },
   "source": [
    "# Task III: NVT molecular dynamics simulations (Part II)"
   ]
  },
  {
   "cell_type": "markdown",
   "id": "e252beb73b63558f",
   "metadata": {
    "collapsed": false
   },
   "source": [
    "## Startup\n",
    "\n",
    "Set up the kernel\n",
    "\n",
    "<center><img src=\"figures/fig1.png\" width=1100 height=240 /></center>\n",
    "\n",
    "<center><img src=\"figures/fig2.png\" width=350 height=240 /></center>\n",
    "\n",
    "run the following cells using `shift` + `enter`"
   ]
  },
  {
   "cell_type": "code",
   "execution_count": null,
   "id": "9f9e25b75c006f69",
   "metadata": {
    "ExecuteTime": {
     "end_time": "2023-10-17T14:46:21.212095Z",
     "start_time": "2023-10-17T14:46:18.217632Z"
    }
   },
   "outputs": [],
   "source": [
    "import matplotlib.pyplot as plt\n",
    "import numpy as np\n",
    "from scipy.stats import maxwell, norm\n",
    "from MD import *\n",
    "from utilities import *"
   ]
  },
  {
   "cell_type": "markdown",
   "id": "83d1c9ac1c2cfc32",
   "metadata": {
    "collapsed": false
   },
   "source": [
    "## Goals\n",
    "- Study how the distribution of velocities depend on `Q`\n",
    "- Study how the response of the system to a temperature change depends on `Q`"
   ]
  },
  {
   "cell_type": "markdown",
   "id": "91e15934bacdda3c",
   "metadata": {
    "collapsed": false
   },
   "source": [
    "## Step 2.1\n",
    "### Test NH for several values of `Q`\n",
    "\n",
    "By changing the value of `Q` in the code, examine the conservation of `EnNH` for several values of `Q`: what do you notice?\n",
    "\n",
    "Does the integration step adopted so far lead to the same degree of accuracy for all values of `Q`? Can you explain why? (see also next point)"
   ]
  },
  {
   "cell_type": "code",
   "execution_count": null,
   "id": "a1c374efde93f346",
   "metadata": {
    "ExecuteTime": {
     "end_time": "2023-10-17T14:47:12.218917Z",
     "start_time": "2023-10-17T14:46:21.813406Z"
    }
   },
   "outputs": [],
   "source": [
    "N, L, pos, vel, xi, lns = read_pos_vel('sampleNVT94.4.dat')\n",
    "\n",
    "Q = 10.\n",
    "T = 0.7807\n",
    "nsteps = 500\n",
    "dt = 0.0046\n",
    "Nbins = 100\n",
    "\n",
    "QValues = [0.1,1,10]\n",
    "outputList = []\n",
    "\n",
    "for Q  in QValues:\n",
    "    # Run MD simulation in NVT ensemble and store into list\n",
    "    outputList.append(run_NVT(pos, vel, L, nsteps, N, dt, T, Q, Nbins=Nbins))"
   ]
  },
  {
   "cell_type": "markdown",
   "id": "63f2f11215e75ff9",
   "metadata": {
    "collapsed": false
   },
   "source": [
    "<div class=\"alert alert-block alert-info\"><b>TODO:</b> Examine the conservation of EnNH for several values of Q </div>\n"
   ]
  },
  {
   "cell_type": "code",
   "execution_count": null,
   "id": "892ac6db39bdf7c1",
   "metadata": {
    "ExecuteTime": {
     "end_time": "2023-10-16T14:27:09.166275Z",
     "start_time": "2023-10-16T14:27:08.427375Z"
    }
   },
   "outputs": [],
   "source": [
    "plt.style.use(\"../utils/plotstyle.mplstyle\") # This is a style file for matplotlib\n",
    "\n",
    "for Q, output in zip(QValues,outputList):\n",
    "    # YOUR CODE HERE\n",
    "\n",
    "plt.show()\n"
   ]
  },
  {
   "cell_type": "markdown",
   "id": "2dee65a783185814",
   "metadata": {
    "collapsed": false
   },
   "source": [
    "\n",
    "Plot the distribution function of the velocity vector for all those `Q` values. Does it reproduce the correct Maxwell-Boltzmann distribution in all cases?"
   ]
  },
  {
   "cell_type": "markdown",
   "id": "17d90de5",
   "metadata": {},
   "source": [
    "<div class=\"alert alert-block alert-info\"><b>TODO:</b> Fill the sigma parameter into the following code </div>"
   ]
  },
  {
   "cell_type": "code",
   "execution_count": null,
   "id": "4a3603acbbcde34b",
   "metadata": {
    "ExecuteTime": {
     "end_time": "2023-10-17T14:58:48.710449Z",
     "start_time": "2023-10-17T14:58:47.388804Z"
    }
   },
   "outputs": [],
   "source": [
    "plt.style.use(\"../utils/plotstyle.mplstyle\") \n",
    "\n",
    "# x-axis values for plotting\n",
    "v = np.linspace(-10,10,Nbins+1) # bin edges\n",
    "x = np.linspace(-10,10,300) \n",
    "\n",
    "for ii, output in enumerate(outputList):\n",
    "    # retrieve histograms of velocities at each step and average them\n",
    "    pv = np.mean(output['pv'], axis=0)  \n",
    "    # Plot p(v) distribution\n",
    "    plt.stairs(pv,v,fill=False,label=f\"Q={QValues[ii]:.2g}\",alpha=0.5,ls='-')\n",
    "\n",
    "# plot reference distribution\n",
    "sigma = # <-------------------------------- FILL IN\n",
    "plt.plot(x,norm.pdf(x,0,sigma),label='M-B dist',ls = '--')\n",
    "\n",
    "plt.legend()\n",
    "plt.show()\n"
   ]
  },
  {
   "cell_type": "markdown",
   "id": "2cde9d9873a7ae1e",
   "metadata": {
    "collapsed": false
   },
   "source": [
    "## Step 2.2\n",
    "### Study a change of temperature\n",
    "\n",
    "Here, the aim is to see how the temperature behaves (as a function of `Q`) when we impose a sudden change from `Told` to `Tnew`.\n",
    "\n",
    "For this purpose we run an equilibration run at `Told` followed by a run at a different temperature `Tnew`. This is done for several values of the Nosé-Hoover thermodynamic inertia parameter `Q`.\n"
   ]
  },
  {
   "cell_type": "code",
   "execution_count": null,
   "id": "f0a99ac528e87132",
   "metadata": {
    "ExecuteTime": {
     "end_time": "2023-10-16T14:06:04.104276Z",
     "start_time": "2023-10-16T14:05:09.816413Z"
    }
   },
   "outputs": [],
   "source": [
    "Told = 0.7807\n",
    "Tnew = 1.25\n",
    "nsteps = 400\n",
    "dt = 0.0046\n",
    "\n",
    "N, L, pos, vel, xi, lns = read_pos_vel('sampleNVT94.4.dat')\n",
    "\n",
    "QValues = [0.1,1,10]\n",
    "EnKinList = []\n",
    "\n",
    "for Q in QValues:\n",
    "    # Run NVT in equilibrated system\n",
    "    output = run_NVT(pos, vel, L, nsteps, N, dt, Told, Q, xi, lns)\n",
    "    EnKin = output['EnKin']\n",
    "\n",
    "    # Change T \n",
    "    output = run_NVT(output['pos'],output['vel'], L, nsteps, N, dt, Tnew, Q)\n",
    "    EnKin = np.concatenate((EnKin, output['EnKin']))\n",
    "    \n",
    "    EnKinList.append(EnKin)\n"
   ]
  },
  {
   "cell_type": "markdown",
   "id": "8fffe6c11980d3ba",
   "metadata": {
    "collapsed": false
   },
   "source": [
    "Look at the evolution of `T` straight after the temperature change.\n",
    "\n",
    "Compare the amplitude of the temperature fluctuations at the starting and final temperatures.\n",
    "\n",
    "Compare the frequency of the temperature oscillations and the transition from `Told` to `Tnew` for different values of Q (make also a link with the previous point).\n",
    "\n",
    "Make some comments."
   ]
  },
  {
   "cell_type": "markdown",
   "id": "feb7e355",
   "metadata": {},
   "source": [
    "<div class=\"alert alert-block alert-info\"><b>TODO:</b> Fill the quantity to be plotted into the following code: </div>"
   ]
  },
  {
   "cell_type": "code",
   "execution_count": null,
   "id": "4363f6e444d2a0ae",
   "metadata": {
    "ExecuteTime": {
     "end_time": "2023-10-16T14:08:20.703883Z",
     "start_time": "2023-10-16T14:08:19.975554Z"
    }
   },
   "outputs": [],
   "source": [
    "plt.style.use(\"../utils/plotstyle.mplstyle\") # a little bit of formatting\n",
    "\n",
    "for ii, EnKin in enumerate(EnKinList):\n",
    "    qty = # <-------------- FILL IN\n",
    "    plt.plot(np.linspace(0,nsteps*2,nsteps*2)*dt, qty, label=f\"Q={QValues[ii]:.2g}\")\n",
    "\n",
    "plt.legend()\n",
    "plt.show()"
   ]
  },
  {
   "cell_type": "markdown",
   "id": "503d365f44f878ba",
   "metadata": {
    "collapsed": false
   },
   "source": []
  }
 ],
 "metadata": {
  "kernelspec": {
   "display_name": "Python 3",
   "language": "python",
   "name": "python3"
  },
  "language_info": {
   "codemirror_mode": {
    "name": "ipython",
    "version": 3
   },
   "file_extension": ".py",
   "mimetype": "text/x-python",
   "name": "python",
   "nbconvert_exporter": "python",
   "pygments_lexer": "ipython3",
   "version": "3.9.7"
  }
 },
 "nbformat": 4,
 "nbformat_minor": 5
}
