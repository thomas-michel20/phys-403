{
 "cells": [
  {
   "cell_type": "markdown",
   "id": "88e11ab803a9ca54",
   "metadata": {
    "collapsed": false
   },
   "source": [
    "# Task III: NVT molecular dynamics simulations (Part III/IV)\n"
   ]
  },
  {
   "cell_type": "markdown",
   "id": "538e5ee4b8dd1143",
   "metadata": {
    "collapsed": false
   },
   "source": [
    "## Startup\n",
    "\n",
    "Set up the kernel\n",
    "\n",
    "<center><img src=\"figures/fig1.png\" width=1100 height=240 /></center>\n",
    "\n",
    "<center><img src=\"figures/fig2.png\" width=350 height=240 /></center>\n",
    "\n",
    "run the following cells using `shift` + `enter`"
   ]
  },
  {
   "cell_type": "code",
   "execution_count": null,
   "id": "6f714e8ad1d09244",
   "metadata": {
    "ExecuteTime": {
     "end_time": "2023-10-17T09:02:28.266756Z",
     "start_time": "2023-10-17T09:02:26.589575Z"
    }
   },
   "outputs": [],
   "source": [
    "import matplotlib.pyplot as plt\n",
    "from scipy.stats import maxwell, norm\n",
    "from MD import *\n",
    "from utilities import *"
   ]
  },
  {
   "cell_type": "markdown",
   "id": "421afa95991c1797",
   "metadata": {
    "collapsed": false
   },
   "source": [
    "## Goals\n",
    "- Verify that the N-H distribution reproduces Maxwell-Boltzmann distribution at different temperatures\n",
    "- Compare fluctuations at different temperatures and verify that they follow the expected behaviour\n",
    "- Compute the diffusion coefficient in NVT"
   ]
  },
  {
   "cell_type": "markdown",
   "id": "7e83bfcc2e505e49",
   "metadata": {
    "collapsed": false
   },
   "source": [
    "## Step 3.1\n",
    "### Test N-H at several temperatures\n",
    "\n",
    "\n",
    "You are now asked to verify that the N.-H. velocity distribution reproduces the Maxwell- Boltzmann distribution also at other temperatures.\n",
    "\n",
    "Following the same lines of the previous exercises, you should be able to setup your system at different temperatures (choose a small set of values in a range of interest) and sample the velocity distribution.\n"
   ]
  },
  {
   "cell_type": "markdown",
   "id": "3a4fb3f3",
   "metadata": {},
   "source": [
    "<div class=\"alert alert-block alert-info\"><b>TODO:</b> Choose a range of temperatures to sample </div>"
   ]
  },
  {
   "cell_type": "code",
   "execution_count": null,
   "id": "3298c1fe2e350060",
   "metadata": {
    "ExecuteTime": {
     "end_time": "2023-10-17T09:08:43.516761Z",
     "start_time": "2023-10-17T09:02:51.023426Z"
    }
   },
   "outputs": [],
   "source": [
    "nsteps = 2000\n",
    "dt = 0.0046\n",
    "Q = 10\n",
    "Nbins=300\n",
    "\n",
    "\n",
    "N, L, pos, vel, xi, lns = read_pos_vel('sampleNVT94.4.dat')\n",
    "outputList = []\n",
    "\n",
    "# temperatures = np.arange(start, stop, step) # <--- Choose values for start, stop, step\n",
    "\n",
    "for T in temperatures:\n",
    "\n",
    "    # Run NVT in equilibrated system\n",
    "    output = run_NVT(pos, vel, L, nsteps//2, N, dt, T, Q, Nbins=Nbins)\n",
    "\n",
    "    # Change T \n",
    "    output = run_NVT(output['pos'],output['vel'], L, nsteps, N, dt, T, Q, output['xi'],output['lns'],Nbins=Nbins)\n",
    "    \n",
    "    outputList.append(output)"
   ]
  },
  {
   "cell_type": "markdown",
   "id": "f573a9d4",
   "metadata": {},
   "source": [
    "<div class=\"alert alert-block alert-info\"><b>TODO:</b> Plot the computed results and the MB distribution (see Step2) </div>"
   ]
  },
  {
   "cell_type": "code",
   "execution_count": null,
   "id": "906dcddc0079cdbd",
   "metadata": {
    "ExecuteTime": {
     "end_time": "2023-10-17T09:11:27.992625Z",
     "start_time": "2023-10-17T09:11:26.966230Z"
    }
   },
   "outputs": [],
   "source": [
    "# Plot p(v) distribution\n",
    "plt.style.use(\"../utils/plotstyle.mplstyle\")\n",
    "\n",
    "for T, output in zip(temperatures,outputList):\n",
    "    v = np.linspace(-10,10,Nbins+1) # bin edges\n",
    "    pv = np.mean(output['pv'], axis=0)\n",
    "    label=f'T={T:.2f}'\n",
    "    # YOUR CODE HERE (use either plt.stairs or plt.plot with v[:-1])\n",
    "\n",
    "plt.legend()\n",
    "plt.show()"
   ]
  },
  {
   "cell_type": "markdown",
   "id": "76cdc2dcc0b9a677",
   "metadata": {
    "collapsed": false
   },
   "source": [
    "## Step 3.2\n",
    "### Temperature fluctuations NVE vs NVT\n",
    "\n",
    "Compare the temperature fluctuations at different temperatures and verify that obey to the relation expected for the NVT ensemble."
   ]
  },
  {
   "cell_type": "markdown",
   "id": "20d9484d",
   "metadata": {},
   "source": [
    "<div class=\"alert alert-block alert-info\"><b>TODO:</b> Compare values of the relative variance to the expected one </div>"
   ]
  },
  {
   "cell_type": "code",
   "execution_count": null,
   "id": "556779b25f76bc7e",
   "metadata": {
    "ExecuteTime": {
     "end_time": "2023-10-17T09:08:43.845463Z",
     "start_time": "2023-10-17T09:08:43.539565Z"
    }
   },
   "outputs": [],
   "source": [
    "varT = []\n",
    "Tsquared = []\n",
    "\n",
    "for output in outputList:\n",
    "    # Fill expressions; use np.var and np.mean\n",
    "    varT.append()\n",
    "    Tsquared.append()\n",
    "    \n",
    "plt.plot(Tsquared,varT,ls='-',marker='*')\n",
    "plt.show()\n",
    "\n",
    "print(np.array(varT)/np.array(Tsquared))\n",
    "# ...compare to expected value 2/3N"
   ]
  },
  {
   "cell_type": "markdown",
   "id": "64b3b7f4f718570e",
   "metadata": {
    "collapsed": false
   },
   "source": [
    "\n",
    "**Optional:** Consider also systems of different sizes and investigate how the temperature fluctuations scale with the number of particles in the canonic and microcanonical ensembles."
   ]
  },
  {
   "cell_type": "code",
   "execution_count": null,
   "id": "8e59ce0c79632a9d",
   "metadata": {},
   "outputs": [],
   "source": [
    "# YOUR CODE HERE"
   ]
  },
  {
   "cell_type": "markdown",
   "id": "4573df57e7c1a5e0",
   "metadata": {
    "collapsed": false
   },
   "source": [
    "## Step 4\n",
    "### Compute diffusion coefficient in NVT\n",
    "\n",
    "Use the techniques that you have learned so far to compute the diffusion coefficient in the NVT ensemble at different temperatures and compare it with that already obtained in the NVE simulations.\n",
    "\n",
    "Verify that $D(T)$ follows the Arrhenius-like relation with temperature:\n",
    "$$D(t) = D(0) \\exp(-E/RT)$$"
   ]
  },
  {
   "cell_type": "code",
   "execution_count": null,
   "id": "a0a1ab37147ee0ec",
   "metadata": {},
   "outputs": [],
   "source": [
    "# YOUR CODE HERE"
   ]
  }
 ],
 "metadata": {
  "kernelspec": {
   "display_name": "Python 3",
   "language": "python",
   "name": "python3"
  },
  "language_info": {
   "codemirror_mode": {
    "name": "ipython",
    "version": 3
   },
   "file_extension": ".py",
   "mimetype": "text/x-python",
   "name": "python",
   "nbconvert_exporter": "python",
   "pygments_lexer": "ipython3",
   "version": "3.9.7"
  }
 },
 "nbformat": 4,
 "nbformat_minor": 5
}
