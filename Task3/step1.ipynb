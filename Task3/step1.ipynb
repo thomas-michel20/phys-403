{
 "cells": [
  {
   "cell_type": "markdown",
   "id": "d9b353f564b2c1f5",
   "metadata": {
    "collapsed": false
   },
   "source": [
    "# Task II: NVT molecular dynamics simulations (Part I)"
   ]
  },
  {
   "cell_type": "markdown",
   "id": "3aa00030bf403d33",
   "metadata": {
    "collapsed": false
   },
   "source": [
    "## Startup\n",
    "\n",
    "Set up the kernel\n",
    "\n",
    "<center><img src=\"figures/fig1.png\" width=1100 height=240 /></center>\n",
    "\n",
    "<center><img src=\"figures/fig2.png\" width=350 height=240 /></center>\n",
    "\n",
    "run the following cells using `shift` + `enter`"
   ]
  },
  {
   "cell_type": "code",
   "execution_count": null,
   "id": "aa18341880325017",
   "metadata": {
    "ExecuteTime": {
     "end_time": "2023-10-16T11:31:40.560266Z",
     "start_time": "2023-10-16T11:31:39.180542Z"
    }
   },
   "outputs": [],
   "source": [
    "import matplotlib.pyplot as plt\n",
    "import numpy as np\n",
    "from scipy.stats import maxwell, norm\n",
    "from MD import *\n",
    "from utilities import *"
   ]
  },
  {
   "cell_type": "markdown",
   "id": "45011d45745da47e",
   "metadata": {
    "collapsed": false
   },
   "source": [
    "In this exercise you will practice with MD simulations in the NVT ensemble for the same system of LJ-atoms of the previous exercise (Task II).\n",
    "\n",
    "We will use the same code of Task II, which also implements the equations for the Nosé-Hoover (NH) thermostat. \n",
    "\n",
    "## Goals\n",
    "- Perfom an equilibration run in the NVT ensemble and monitor the evolution of the temperature\n",
    "- Check the conservation of the constant of motion `EnNH`\n",
    "- Compare the velocity distribution with the appropriate one for the NVT ensemble"
   ]
  },
  {
   "cell_type": "markdown",
   "id": "cf425feaf3d4ab64",
   "metadata": {
    "collapsed": false
   },
   "source": [
    "## Step 1.1\n",
    "### Equilibrate the sample in the NVT\n",
    "\n",
    "We start from the same sample at T ≈ 94K that was equilibrated in the NVE ensemble (_copy that file into the current directory before going on_).\n",
    "\n",
    "In order to perform a dynamics in the NVT ensemble using the Nosé-Hoover thermostat, you need to use the function `run_NVT()` and specify a value of the thermal inertia parameter `Q`:"
   ]
  },
  {
   "cell_type": "code",
   "execution_count": null,
   "id": "cdc2e62cc38c450b",
   "metadata": {
    "ExecuteTime": {
     "end_time": "2023-10-16T11:32:06.663352Z",
     "start_time": "2023-10-16T11:31:43.892126Z"
    }
   },
   "outputs": [],
   "source": [
    "N, L, pos, vel = read_pos_vel('sampleT94.4.dat')\n",
    "\n",
    "Q = 10.             # thermal inertia parameter\n",
    "T = 0.7807          # requested temperature\n",
    "nsteps = 900        # number of steps\n",
    "dt = 0.0046         # integration step\n",
    "\n",
    "# Run MD simulation in NVT ensemble\n",
    "output = run_NVT(pos, vel, L, nsteps, N, dt, T, Q)\n",
    "\n",
    "# Write equilibrated structure into a file\n",
    "dump_pos_vel('sampleNVT94.4.dat', output['pos'], output['vel'], N, L, output['xi'], output['lns'])\n"
   ]
  },
  {
   "cell_type": "markdown",
   "id": "aaf578de651006f5",
   "metadata": {
    "collapsed": false
   },
   "source": [
    "Examine the conservation of `EnNH`, the energy corresponding to the Nosé-Hoover Hamiltonian. Compare its fluctuations with those of the \"real\" total energy. Which one is fluctuating the most?\n",
    "\n",
    "Examine the behaviour of the temperature as a function of the number of steps."
   ]
  },
  {
   "cell_type": "code",
   "execution_count": null,
   "id": "dc8837700ffe04dc",
   "metadata": {
    "ExecuteTime": {
     "end_time": "2023-10-16T11:53:08.462419Z",
     "start_time": "2023-10-16T11:53:07.476662Z"
    }
   },
   "outputs": [],
   "source": [
    "plt.style.use(\"../utils/plotstyle.mplstyle\") # This is a style file for matplotlib\n",
    "\n",
    "# Plot E_NH vs step\n",
    "results={\n",
    "        'nsteps': output['nsteps'],\n",
    "        'EnNH' : output['EnNH']\n",
    "}\n",
    "plot_data2(results,xlabel='nsteps')\n",
    "\n",
    "# Plot Etot vs step\n",
    "results={\n",
    "        'nsteps': output['nsteps'],\n",
    "        'Etot' : output['EnKin'] + output['EnPot']\n",
    "}\n",
    "plot_data2(results,xlabel='nsteps')\n",
    "\n",
    "# Plot Temperature vs nsteps\n",
    "results={\n",
    "        'nsteps': output['nsteps'],\n",
    "        'Temperature' : output['EnKin']*2/3\n",
    "}\n",
    "plot_data2(results,xlabel='nsteps')\n",
    "\n",
    "plt.show()"
   ]
  },
  {
   "cell_type": "markdown",
   "id": "cfea9a6a49202b23",
   "metadata": {
    "collapsed": false
   },
   "source": [
    "## Step 1.2\n",
    "### Study the fluctuations\n",
    "\n",
    "Here, `xi` and `lns` are NH-variables that are read from `sampleNVT94.4.dat` and required in order to start with the fully equilibrated state.\n",
    "\n",
    "Perform a longer equilibration in order to gain sufficient statistics for plotting the velocity distributions."
   ]
  },
  {
   "cell_type": "code",
   "execution_count": null,
   "id": "22294a87e03feaf0",
   "metadata": {},
   "outputs": [],
   "source": [
    "Q = 10.\n",
    "T = 0.7807\n",
    "nsteps = 3000\n",
    "dt = 0.0046\n",
    "Nbins=300\n",
    "\n",
    "N, L, pos, vel, xi, lns = read_pos_vel('sampleNVT94.4.dat')\n",
    "\n",
    "# Run MD simulation in NVT ensemble\n",
    "output = run_NVT(pos, vel, L, nsteps, N, dt, T, Q, xi, lns,Nbins=Nbins)"
   ]
  },
  {
   "cell_type": "markdown",
   "id": "9dc60757275f834d",
   "metadata": {
    "collapsed": false
   },
   "source": [
    "\n",
    "Plot the distribution function of the velocity vector and of the speed which are written in the output dictionary by `run_NVT()` and compare with the corresponding Maxwell-Boltzmann distribution (at the correct temperature).\n",
    "\n",
    "You can now verify if the particle velocities obtained by integrating the Nosé-Hoover equations actually correspond to the dynamics of the NVT ensemble.\n"
   ]
  },
  {
   "cell_type": "markdown",
   "id": "b2fc4e5a",
   "metadata": {},
   "source": [
    "<div class=\"alert alert-block alert-info\"><b>TODO:</b> Fill the `sigma` parameter in the following code </div>"
   ]
  },
  {
   "cell_type": "code",
   "execution_count": null,
   "id": "1eb74796a1fc1605",
   "metadata": {
    "ExecuteTime": {
     "end_time": "2023-10-16T12:02:51.271900Z",
     "start_time": "2023-10-16T12:02:50.954916Z"
    }
   },
   "outputs": [],
   "source": [
    "plt.style.use(\"../utils/plotstyle.mplstyle\") # This is a style file for matplotlib\n",
    "\n",
    "# Plot p(v) distribution\n",
    "v = np.linspace(-10,10,Nbins)\n",
    "sigma = # FILL IN\n",
    "results = {\n",
    "        'v' : v,\n",
    "        'pv': np.mean(output['pv'], axis=0),\n",
    "        'pdf_normal': norm.pdf(v,0,sigma)\n",
    "}\n",
    "plot_data2(results=results,xlabel='v')\n",
    "plt.show()"
   ]
  },
  {
   "cell_type": "code",
   "execution_count": null,
   "id": "4770f9e9964605b6",
   "metadata": {
    "ExecuteTime": {
     "end_time": "2023-10-16T11:46:09.919464Z",
     "start_time": "2023-10-16T11:46:09.679664Z"
    }
   },
   "outputs": [],
   "source": [
    "# Plot p(v**2) distribution\n",
    "v = np.linspace(0,10,Nbins)\n",
    "sigma = # FILL IN\n",
    "results = {\n",
    "        'v' : v,\n",
    "        'pv2': np.mean(output['pv2'], axis=0),\n",
    "        'pdf_maxwell': maxwell.pdf(v, 0, sigma)\n",
    "}\n",
    "plot_data2(results=results,xlabel='v')\n",
    "plt.show()"
   ]
  },
  {
   "cell_type": "code",
   "execution_count": null,
   "id": "fa5edcda622d2b07",
   "metadata": {},
   "outputs": [],
   "source": []
  }
 ],
 "metadata": {
  "kernelspec": {
   "display_name": "Python 3",
   "language": "python",
   "name": "python3"
  },
  "language_info": {
   "codemirror_mode": {
    "name": "ipython",
    "version": 3
   },
   "file_extension": ".py",
   "mimetype": "text/x-python",
   "name": "python",
   "nbconvert_exporter": "python",
   "pygments_lexer": "ipython3",
   "version": "3.9.7"
  }
 },
 "nbformat": 4,
 "nbformat_minor": 5
}
